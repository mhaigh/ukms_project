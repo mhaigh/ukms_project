{
 "cells": [
  {
   "cell_type": "markdown",
   "metadata": {
    "slideshow": {
     "slide_type": "slide"
    }
   },
   "source": [
    "# Understanding Spatial Ensemble Variability in Weather Simulation Data\n",
    "\n",
    "## Matt, Mike, Zoe"
   ]
  },
  {
   "cell_type": "markdown",
   "metadata": {
    "slideshow": {
     "slide_type": "slide"
    }
   },
   "source": [
    "## Motivation of backbones into climate and weather science\n",
    "\n",
    "Example: machine learning algoirthms for image segmentation have a wide variety of applications. e.g idetnifying vertibrae/spinal structure in medical imaging.\n",
    "\n",
    "<img src=\"images/spine_superpixels.png\" style=\"width: 1000px;\"/>"
   ]
  },
  {
   "cell_type": "markdown",
   "metadata": {
    "slideshow": {
     "slide_type": "subslide"
    }
   },
   "source": [
    "<img src=\"images/backbone.png\">"
   ]
  },
  {
   "cell_type": "markdown",
   "metadata": {
    "slideshow": {
     "slide_type": "slide"
    }
   },
   "source": [
    "# Research Question\n",
    "\n",
    "- Q: how different are the different ensemble members in Mogreps?\n",
    "- Q: Is there some degree of spatial correlation in this variability?\n"
   ]
  },
  {
   "cell_type": "markdown",
   "metadata": {
    "slideshow": {
     "slide_type": "subslide"
    }
   },
   "source": [
    "Let $X$ be some variable we are interested in (e.g temperature,pressure).\n",
    "\n",
    "We divide the region into segments $K=1,...,N$ using the image segmentation algorithm.\n",
    "\n",
    "Let $<X>_K^p$ be the mean value of X in cell K for ensemble member $P$. \n",
    "\n",
    "Given $<X>_K^p$'s we can compute statistics of interest e.g __mean__,__variance__"
   ]
  },
  {
   "cell_type": "markdown",
   "metadata": {
    "slideshow": {
     "slide_type": "subslide"
    }
   },
   "source": [
    "# Approach\n",
    "\n",
    "- There is too much data to process individually --> divide the region into superpixels.\n",
    "- For each superpixel we can compute the value of the property of interest. "
   ]
  },
  {
   "cell_type": "markdown",
   "metadata": {
    "slideshow": {
     "slide_type": "slide"
    }
   },
   "source": [
    "# Results 1: Understanding how the superpixel resolution effects computed variability.\n",
    "\n",
    "Plot showing the Coefficient of variation in the distribution of air_temperature values for the different ensemble members.\n",
    "\n",
    "\n",
    "<img src=\"images/CV_Plot_air_temperature_1_2014_Mar_1_h_3_fp_3_cells_10.png\">"
   ]
  },
  {
   "cell_type": "markdown",
   "metadata": {
    "slideshow": {
     "slide_type": "subslide"
    }
   },
   "source": [
    "<img src=\"images/CV_Plot_air_temperature_1_2014_Mar_1_h_3_fp_3_cells_50.png\">"
   ]
  },
  {
   "cell_type": "markdown",
   "metadata": {
    "slideshow": {
     "slide_type": "subslide"
    }
   },
   "source": [
    "<img src=\"images/CV_Plot_air_temperature_1_2014_Mar_1_h_3_fp_3_cells_100.png\">"
   ]
  },
  {
   "cell_type": "markdown",
   "metadata": {
    "slideshow": {
     "slide_type": "subslide"
    }
   },
   "source": [
    "<img src=\"images/CV_Plot_air_temperature_1_2014_Mar_1_h_3_fp_3_cells_250.png\">"
   ]
  },
  {
   "cell_type": "markdown",
   "metadata": {
    "slideshow": {
     "slide_type": "subslide"
    }
   },
   "source": [
    "<img src=\"images/CV_Plot_air_temperature_1_2014_Mar_1_h_3_fp_3_cells_350.png\">"
   ]
  },
  {
   "cell_type": "markdown",
   "metadata": {
    "slideshow": {
     "slide_type": "slide"
    }
   },
   "source": [
    "# Future Directions\n",
    "\n",
    "- Need more analysis for analysing choosing the optimal resolutoion.\n",
    "- Can we identify metrics for spatial correlation which usefully summarize the large amount of data?"
   ]
  },
  {
   "cell_type": "code",
   "execution_count": null,
   "metadata": {},
   "outputs": [],
   "source": []
  }
 ],
 "metadata": {
  "kernelspec": {
   "display_name": "Python 3",
   "language": "python",
   "name": "python3"
  },
  "language_info": {
   "codemirror_mode": {
    "name": "ipython",
    "version": 3
   },
   "file_extension": ".py",
   "mimetype": "text/x-python",
   "name": "python",
   "nbconvert_exporter": "python",
   "pygments_lexer": "ipython3",
   "version": "3.6.5"
  }
 },
 "nbformat": 4,
 "nbformat_minor": 2
}
