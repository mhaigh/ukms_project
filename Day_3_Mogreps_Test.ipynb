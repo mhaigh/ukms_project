{
 "cells": [
  {
   "cell_type": "code",
   "execution_count": 1,
   "metadata": {},
   "outputs": [],
   "source": [
    "#import modules:\n",
    "import mogreps\n",
    "import netCDF4\n",
    "from pathlib import Path\n",
    "#(module for transforming coordinate systems)\n",
    "import cartopy.crs as ccrs\n",
    "\n",
    "from matplotlib import pyplot as plt\n",
    "import matplotlib as mpl\n",
    "mpl.rcParams['figure.figsize'] = (10,10)"
   ]
  },
  {
   "cell_type": "markdown",
   "metadata": {},
   "source": [
    "Code to extract the list of keys for the different variables."
   ]
  },
  {
   "cell_type": "code",
   "execution_count": 2,
   "metadata": {},
   "outputs": [
    {
     "name": "stdout",
     "output_type": "stream",
     "text": [
      "File prods_op_mogreps-uk_20130201_03_00_003.nc already exists.\n"
     ]
    },
    {
     "data": {
      "text/plain": [
       "odict_keys(['wet_bulb_potential_temperature', 'rotated_latitude_longitude', 'time', 'pressure', 'grid_latitude', 'grid_longitude', 'forecast_period', 'forecast_reference_time', 'cloud_base_altitude_assuming_only_consider_cloud_area_fraction_greater_than_2p5_oktas', 'time_0', 'forecast_period_0', 'cloud_area_fraction_assuming_maximum_random_overlap', 'stratiform_snowfall_rate', 'time_1', 'forecast_period_1', 'wet_bulb_freezing_level_altitude', 'time_2', 'forecast_period_2', 'air_pressure_at_sea_level', 'air_temperature', 'pressure_0', 'air_temperature_0', 'height', 'air_temperature_1', 'time_3', 'time_3_bnds', 'forecast_period_3', 'forecast_period_3_bnds', 'air_temperature_2', 'dew_point_temperature', 'fog_area_fraction', 'geopotential_height', 'pressure_1', 'high_type_cloud_area_fraction', 'low_type_cloud_area_fraction', 'medium_type_cloud_area_fraction', 'relative_humidity', 'relative_humidity_0', 'specific_humidity', 'stratiform_rainfall_amount', 'forecast_period_4', 'forecast_period_4_bnds', 'time_4', 'time_4_bnds', 'stratiform_rainfall_rate', 'stratiform_snowfall_amount', 'surface_air_pressure', 'surface_altitude', 'forecast_period_5', 'time_5', 'surface_downward_eastward_stress', 'grid_longitude_0', 'level_height', 'level_height_bnds', 'model_level_number', 'sigma', 'sigma_bnds', 'surface_altitude_0', 'surface_downward_northward_stress', 'grid_latitude_0', 'surface_altitude_1', 'level_height_0', 'level_height_0_bnds', 'surface_downwelling_longwave_flux', 'time_6', 'forecast_period_6', 'surface_downwelling_shortwave_flux_in_air', 'visibility_in_air', 'wind_speed_of_gust', 'height_0', 'x_wind', 'x_wind_0', 'x_wind_1', 'level_height_1', 'level_height_1_bnds', 'model_level_number_0', 'sigma_0', 'sigma_0_bnds', 'y_wind', 'y_wind_0', 'y_wind_1', 'level_height_2', 'level_height_2_bnds'])"
      ]
     },
     "execution_count": 2,
     "metadata": {},
     "output_type": "execute_result"
    }
   ],
   "source": [
    "#first realisation:\n",
    "f = mogreps.download_data('mogreps-uk', mogreps.make_data_object_name('mogreps-uk',2013,2,1,3,0,3),data_folder=Path('.')  )\n",
    "\n",
    "#mogreps.make_data_object_name\n",
    "data_set = netCDF4.Dataset(f)\n",
    "data_set.variables.keys()"
   ]
  },
  {
   "cell_type": "markdown",
   "metadata": {},
   "source": [
    "Look at specific variables."
   ]
  },
  {
   "cell_type": "code",
   "execution_count": 3,
   "metadata": {},
   "outputs": [
    {
     "name": "stdout",
     "output_type": "stream",
     "text": [
      "<class 'numpy.ma.core.MaskedArray'>\n"
     ]
    }
   ],
   "source": [
    "#print( data_set.variables.keys() ) \n",
    "\n",
    "\"\"\"\n",
    "for k in data_set.variables.keys() : \n",
    "    print(\"key = \" + str(k))\n",
    "    value = data_set.variables[k][0]\n",
    "    print(value)\n",
    "\"\"\"\n",
    "\n",
    "    \n",
    "print( type( data_set.variables ['air_temperature_2'][0] )  ) "
   ]
  },
  {
   "cell_type": "markdown",
   "metadata": {},
   "source": [
    "Some functions to pull out the data. (to put these in a Python script at a later date). "
   ]
  },
  {
   "cell_type": "code",
   "execution_count": 7,
   "metadata": {},
   "outputs": [],
   "source": [
    "def Month_Map(month_str) : \n",
    "\n",
    "    \"\"\"\n",
    "    Function to converty months as 3 letter strings to\n",
    "    corresponding int between 0 and 11.\n",
    "    month_str : str\n",
    "    \"\"\"\n",
    "    \n",
    "    Month_Dict = { \"Jan\" : 0,  \"Feb\" : 1, \"Mar\" : 2, \"Apr\" : 3 , \"May\" : 4, \"Jun\" : 5, \"Jul\" : 6 , \"Aug\" : 7 , \"Sep\" : 8, \"Oct\" : 9 , \"Nov\" : 10 , \"Dec\" : 11}\n",
    "    \n",
    "    return Month_Dict[month_str]\n",
    "\n",
    "\n",
    "def Pull_Out_Location_Array(variable_name,grid_loc_1,grid_loc_2,year,month,day,hour,forecast_period) : \n",
    "    \n",
    "    \n",
    "    num_ensemble_members = 12\n",
    "    \n",
    "    Property_Array = [ ]\n",
    "    \n",
    "    for i in range(num_ensemble_members) : \n",
    "        f = mogreps.download_data('mogreps-uk', mogreps.make_data_object_name('mogreps-uk',year,Month_Map(month),day,hour,i,forecast_period),data_folder=Path('.')  )\n",
    "        data_set = netCDF4.Dataset(f)\n",
    "        value = data_set.variables[variable_name][0][grid_loc_1][grid_loc_2]\n",
    "        Property_Array.append(value)\n",
    "    \n",
    "    return Property_Array\n",
    "\n",
    "\n",
    "def Plot_Variables_Against(variable_1,variable_2,grid_loc_1,grid_loc_2,year,month,day,hour,forecast_period) : \n",
    "    \n",
    "    \"\"\"\n",
    "    Plot two variables at a specified location against each other.\n",
    "    \n",
    "    \"\"\"\n",
    "    \n",
    "    array_1 =  Pull_Out_Location_Array(variable_1,grid_loc_1,grid_loc_2,year,month,day,hour,forecast_period)\n",
    "    array_2 = Pull_Out_Location_Array(variable_2,grid_loc_1,grid_loc_2,year,month,day,hour,forecast_period)\n",
    "    \n",
    "    plt.scatter(array_1,array_2)\n",
    "    plt.title( str(year) + \" \" + month + \" \" + str(day) + \" at \" + str(hour) + \"H at location \" + str((grid_loc_1,grid_loc_2)) )\n",
    "    plt.xlabel(variable_1)\n",
    "    plt.ylabel(variable_2)\n",
    "    plt.show()\n",
    "\n",
    "import time   \n",
    "def Plot_Variance_in_Property(variable_name,year,month,day,hour,forecast_period) : \n",
    "\n",
    "    \"\"\"\n",
    "    \n",
    "    Plot the variance in a given property across the ensembles\n",
    "    for a given time period.\n",
    "    \n",
    "    \"\"\"\n",
    "    \n",
    "    x_len = 547\n",
    "    y_len = 420\n",
    "    \n",
    "    x_len = 10\n",
    "    y_len = 10\n",
    "    \n",
    "    #emptry array for matrix values:\n",
    "    Value_Matrix = np.zeros( (x_len,y_len) )\n",
    "    \n",
    "    for i in range(x_len) : \n",
    "        for j in range(y_len) : \n",
    "            print(\"i=\" + str(i) + \"j=\" + str(j))\n",
    "            time.sleep(1)\n",
    "            Property_Array = Pull_Out_Location_Array(variable_name,i,j,year,month,day,hour,forecast_period)\n",
    "            Value_Matrix[i][j] = np.var(Property_Array)\n",
    "            print(\"Variance = \" + str(np.var(Property_Array)) )\n",
    "    \n",
    "    \n",
    "            fig = plt.figure()\n",
    "            #First subplot in a 1x1 grid\n",
    "            ax = fig.add_subplot(111)\n",
    "            plt.pcolormesh(Value_Matrix,cmap='brg')\n",
    "            plt.show()\n",
    "\n",
    "    \n",
    "    "
   ]
  },
  {
   "cell_type": "code",
   "execution_count": 8,
   "metadata": {},
   "outputs": [
    {
     "name": "stdout",
     "output_type": "stream",
     "text": [
      "i=0j=0\n",
      "File prods_op_mogreps-uk_20130401_03_00_003.nc already exists.\n",
      "File prods_op_mogreps-uk_20130401_03_01_003.nc already exists.\n",
      "File prods_op_mogreps-uk_20130401_03_02_003.nc already exists.\n",
      "File prods_op_mogreps-uk_20130401_03_03_003.nc already exists.\n",
      "File prods_op_mogreps-uk_20130401_03_04_003.nc already exists.\n",
      "File prods_op_mogreps-uk_20130401_03_05_003.nc already exists.\n",
      "File prods_op_mogreps-uk_20130401_03_06_003.nc already exists.\n",
      "File prods_op_mogreps-uk_20130401_03_07_003.nc already exists.\n",
      "File prods_op_mogreps-uk_20130401_03_08_003.nc already exists.\n",
      "File prods_op_mogreps-uk_20130401_03_09_003.nc already exists.\n",
      "File prods_op_mogreps-uk_20130401_03_10_003.nc already exists.\n",
      "File prods_op_mogreps-uk_20130401_03_11_003.nc already exists.\n",
      "Variance = 0.5897352\n"
     ]
    },
    {
     "data": {
      "image/png": "[encoded data removed]",
      "text/plain": [
       "<Figure size 432x288 with 1 Axes>"
      ]
     },
     "metadata": {},
     "output_type": "display_data"
    },
    {
     "name": "stdout",
     "output_type": "stream",
     "text": [
      "i=0j=1\n",
      "File prods_op_mogreps-uk_20130401_03_00_003.nc already exists.\n",
      "File prods_op_mogreps-uk_20130401_03_01_003.nc already exists.\n",
      "File prods_op_mogreps-uk_20130401_03_02_003.nc already exists.\n",
      "File prods_op_mogreps-uk_20130401_03_03_003.nc already exists.\n",
      "File prods_op_mogreps-uk_20130401_03_04_003.nc already exists.\n",
      "File prods_op_mogreps-uk_20130401_03_05_003.nc already exists.\n",
      "File prods_op_mogreps-uk_20130401_03_06_003.nc already exists.\n",
      "File prods_op_mogreps-uk_20130401_03_07_003.nc already exists.\n",
      "File prods_op_mogreps-uk_20130401_03_08_003.nc already exists.\n",
      "File prods_op_mogreps-uk_20130401_03_09_003.nc already exists.\n",
      "File prods_op_mogreps-uk_20130401_03_10_003.nc already exists.\n",
      "File prods_op_mogreps-uk_20130401_03_11_003.nc already exists.\n",
      "Variance = 0.5584852\n"
     ]
    },
    {
     "data": {
      "image/png": "[encoded data removed]",
      "text/plain": [
       "<Figure size 432x288 with 1 Axes>"
      ]
     },
     "metadata": {},
     "output_type": "display_data"
    },
    {
     "name": "stdout",
     "output_type": "stream",
     "text": [
      "i=0j=2\n",
      "File prods_op_mogreps-uk_20130401_03_00_003.nc already exists.\n",
      "File prods_op_mogreps-uk_20130401_03_01_003.nc already exists.\n",
      "File prods_op_mogreps-uk_20130401_03_02_003.nc already exists.\n",
      "File prods_op_mogreps-uk_20130401_03_03_003.nc already exists.\n",
      "File prods_op_mogreps-uk_20130401_03_04_003.nc already exists.\n",
      "File prods_op_mogreps-uk_20130401_03_05_003.nc already exists.\n",
      "File prods_op_mogreps-uk_20130401_03_06_003.nc already exists.\n",
      "File prods_op_mogreps-uk_20130401_03_07_003.nc already exists.\n",
      "File prods_op_mogreps-uk_20130401_03_08_003.nc already exists.\n",
      "File prods_op_mogreps-uk_20130401_03_09_003.nc already exists.\n",
      "File prods_op_mogreps-uk_20130401_03_10_003.nc already exists.\n",
      "File prods_op_mogreps-uk_20130401_03_11_003.nc already exists.\n",
      "Variance = 0.5750868\n"
     ]
    },
    {
     "data": {
      "image/png": "[encoded data removed]",
      "text/plain": [
       "<Figure size 432x288 with 1 Axes>"
      ]
     },
     "metadata": {},
     "output_type": "display_data"
    },
    {
     "name": "stdout",
     "output_type": "stream",
     "text": [
      "i=0j=3\n",
      "File prods_op_mogreps-uk_20130401_03_00_003.nc already exists.\n",
      "File prods_op_mogreps-uk_20130401_03_01_003.nc already exists.\n",
      "File prods_op_mogreps-uk_20130401_03_02_003.nc already exists.\n",
      "File prods_op_mogreps-uk_20130401_03_03_003.nc already exists.\n",
      "File prods_op_mogreps-uk_20130401_03_04_003.nc already exists.\n",
      "File prods_op_mogreps-uk_20130401_03_05_003.nc already exists.\n",
      "File prods_op_mogreps-uk_20130401_03_06_003.nc already exists.\n",
      "File prods_op_mogreps-uk_20130401_03_07_003.nc already exists.\n",
      "File prods_op_mogreps-uk_20130401_03_08_003.nc already exists.\n",
      "File prods_op_mogreps-uk_20130401_03_09_003.nc already exists.\n",
      "File prods_op_mogreps-uk_20130401_03_10_003.nc already exists.\n",
      "File prods_op_mogreps-uk_20130401_03_11_003.nc already exists.\n",
      "Variance = 0.61675346\n"
     ]
    },
    {
     "data": {
      "image/png": "[encoded data removed]",
      "text/plain": [
       "<Figure size 432x288 with 1 Axes>"
      ]
     },
     "metadata": {},
     "output_type": "display_data"
    },
    {
     "name": "stdout",
     "output_type": "stream",
     "text": [
      "i=0j=4\n",
      "File prods_op_mogreps-uk_20130401_03_00_003.nc already exists.\n",
      "File prods_op_mogreps-uk_20130401_03_01_003.nc already exists.\n",
      "File prods_op_mogreps-uk_20130401_03_02_003.nc already exists.\n",
      "File prods_op_mogreps-uk_20130401_03_03_003.nc already exists.\n",
      "File prods_op_mogreps-uk_20130401_03_04_003.nc already exists.\n",
      "File prods_op_mogreps-uk_20130401_03_05_003.nc already exists.\n",
      "File prods_op_mogreps-uk_20130401_03_06_003.nc already exists.\n",
      "File prods_op_mogreps-uk_20130401_03_07_003.nc already exists.\n",
      "File prods_op_mogreps-uk_20130401_03_08_003.nc already exists.\n",
      "File prods_op_mogreps-uk_20130401_03_09_003.nc already exists.\n",
      "File prods_op_mogreps-uk_20130401_03_10_003.nc already exists.\n",
      "File prods_op_mogreps-uk_20130401_03_11_003.nc already exists.\n",
      "Variance = 0.5819227\n"
     ]
    },
    {
     "data": {
      "image/png": "[encoded data removed]",
      "text/plain": [
       "<Figure size 432x288 with 1 Axes>"
      ]
     },
     "metadata": {},
     "output_type": "display_data"
    },
    {
     "name": "stdout",
     "output_type": "stream",
     "text": [
      "i=0j=5\n",
      "File prods_op_mogreps-uk_20130401_03_00_003.nc already exists.\n",
      "File prods_op_mogreps-uk_20130401_03_01_003.nc already exists.\n",
      "File prods_op_mogreps-uk_20130401_03_02_003.nc already exists.\n",
      "File prods_op_mogreps-uk_20130401_03_03_003.nc already exists.\n",
      "File prods_op_mogreps-uk_20130401_03_04_003.nc already exists.\n",
      "File prods_op_mogreps-uk_20130401_03_05_003.nc already exists.\n",
      "File prods_op_mogreps-uk_20130401_03_06_003.nc already exists.\n",
      "File prods_op_mogreps-uk_20130401_03_07_003.nc already exists.\n",
      "File prods_op_mogreps-uk_20130401_03_08_003.nc already exists.\n",
      "File prods_op_mogreps-uk_20130401_03_09_003.nc already exists.\n",
      "File prods_op_mogreps-uk_20130401_03_10_003.nc already exists.\n",
      "File prods_op_mogreps-uk_20130401_03_11_003.nc already exists.\n",
      "Variance = 0.5894097\n"
     ]
    },
    {
     "data": {
      "image/png": "[encoded data removed]",
      "text/plain": [
       "<Figure size 432x288 with 1 Axes>"
      ]
     },
     "metadata": {},
     "output_type": "display_data"
    },
    {
     "name": "stdout",
     "output_type": "stream",
     "text": [
      "i=0j=6\n",
      "File prods_op_mogreps-uk_20130401_03_00_003.nc already exists.\n",
      "File prods_op_mogreps-uk_20130401_03_01_003.nc already exists.\n",
      "File prods_op_mogreps-uk_20130401_03_02_003.nc already exists.\n",
      "File prods_op_mogreps-uk_20130401_03_03_003.nc already exists.\n",
      "File prods_op_mogreps-uk_20130401_03_04_003.nc already exists.\n",
      "File prods_op_mogreps-uk_20130401_03_05_003.nc already exists.\n",
      "File prods_op_mogreps-uk_20130401_03_06_003.nc already exists.\n",
      "File prods_op_mogreps-uk_20130401_03_07_003.nc already exists.\n",
      "File prods_op_mogreps-uk_20130401_03_08_003.nc already exists.\n",
      "File prods_op_mogreps-uk_20130401_03_09_003.nc already exists.\n",
      "File prods_op_mogreps-uk_20130401_03_10_003.nc already exists.\n",
      "File prods_op_mogreps-uk_20130401_03_11_003.nc already exists.\n",
      "Variance = 0.5992839\n"
     ]
    },
    {
     "data": {
      "image/png": "[encoded data removed]",
      "text/plain": [
       "<Figure size 432x288 with 1 Axes>"
      ]
     },
     "metadata": {},
     "output_type": "display_data"
    },
    {
     "name": "stdout",
     "output_type": "stream",
     "text": [
      "i=0j=7\n",
      "File prods_op_mogreps-uk_20130401_03_00_003.nc already exists.\n",
      "File prods_op_mogreps-uk_20130401_03_01_003.nc already exists.\n",
      "File prods_op_mogreps-uk_20130401_03_02_003.nc already exists.\n",
      "File prods_op_mogreps-uk_20130401_03_03_003.nc already exists.\n",
      "File prods_op_mogreps-uk_20130401_03_04_003.nc already exists.\n",
      "File prods_op_mogreps-uk_20130401_03_05_003.nc already exists.\n",
      "File prods_op_mogreps-uk_20130401_03_06_003.nc already exists.\n",
      "File prods_op_mogreps-uk_20130401_03_07_003.nc already exists.\n",
      "File prods_op_mogreps-uk_20130401_03_08_003.nc already exists.\n",
      "File prods_op_mogreps-uk_20130401_03_09_003.nc already exists.\n",
      "File prods_op_mogreps-uk_20130401_03_10_003.nc already exists.\n",
      "File prods_op_mogreps-uk_20130401_03_11_003.nc already exists.\n",
      "Variance = 0.6305339\n"
     ]
    },
    {
     "data": {
      "image/png": "[encoded data removed]",
      "text/plain": [
       "<Figure size 432x288 with 1 Axes>"
      ]
     },
     "metadata": {},
     "output_type": "display_data"
    },
    {
     "name": "stdout",
     "output_type": "stream",
     "text": [
      "i=0j=8\n",
      "File prods_op_mogreps-uk_20130401_03_00_003.nc already exists.\n",
      "File prods_op_mogreps-uk_20130401_03_01_003.nc already exists.\n",
      "File prods_op_mogreps-uk_20130401_03_02_003.nc already exists.\n",
      "File prods_op_mogreps-uk_20130401_03_03_003.nc already exists.\n",
      "File prods_op_mogreps-uk_20130401_03_04_003.nc already exists.\n",
      "File prods_op_mogreps-uk_20130401_03_05_003.nc already exists.\n",
      "File prods_op_mogreps-uk_20130401_03_06_003.nc already exists.\n",
      "File prods_op_mogreps-uk_20130401_03_07_003.nc already exists.\n",
      "File prods_op_mogreps-uk_20130401_03_08_003.nc already exists.\n",
      "File prods_op_mogreps-uk_20130401_03_09_003.nc already exists.\n",
      "File prods_op_mogreps-uk_20130401_03_10_003.nc already exists.\n",
      "File prods_op_mogreps-uk_20130401_03_11_003.nc already exists.\n",
      "Variance = 0.5998264\n"
     ]
    },
    {
     "data": {
      "image/png": "[encoded data removed]",
      "text/plain": [
       "<Figure size 432x288 with 1 Axes>"
      ]
     },
     "metadata": {},
     "output_type": "display_data"
    },
    {
     "name": "stdout",
     "output_type": "stream",
     "text": [
      "i=0j=9\n",
      "File prods_op_mogreps-uk_20130401_03_00_003.nc already exists.\n",
      "File prods_op_mogreps-uk_20130401_03_01_003.nc already exists.\n",
      "File prods_op_mogreps-uk_20130401_03_02_003.nc already exists.\n",
      "File prods_op_mogreps-uk_20130401_03_03_003.nc already exists.\n",
      "File prods_op_mogreps-uk_20130401_03_04_003.nc already exists.\n",
      "File prods_op_mogreps-uk_20130401_03_05_003.nc already exists.\n",
      "File prods_op_mogreps-uk_20130401_03_06_003.nc already exists.\n",
      "File prods_op_mogreps-uk_20130401_03_07_003.nc already exists.\n",
      "File prods_op_mogreps-uk_20130401_03_08_003.nc already exists.\n",
      "File prods_op_mogreps-uk_20130401_03_09_003.nc already exists.\n",
      "File prods_op_mogreps-uk_20130401_03_10_003.nc already exists.\n",
      "File prods_op_mogreps-uk_20130401_03_11_003.nc already exists.\n",
      "Variance = 0.6097005\n"
     ]
    },
    {
     "data": {
      "image/png": "[encoded data removed]",
      "text/plain": [
       "<Figure size 432x288 with 1 Axes>"
      ]
     },
     "metadata": {},
     "output_type": "display_data"
    },
    {
     "name": "stdout",
     "output_type": "stream",
     "text": [
      "i=1j=0\n",
      "File prods_op_mogreps-uk_20130401_03_00_003.nc already exists.\n",
      "File prods_op_mogreps-uk_20130401_03_01_003.nc already exists.\n",
      "File prods_op_mogreps-uk_20130401_03_02_003.nc already exists.\n",
      "File prods_op_mogreps-uk_20130401_03_03_003.nc already exists.\n",
      "File prods_op_mogreps-uk_20130401_03_04_003.nc already exists.\n",
      "File prods_op_mogreps-uk_20130401_03_05_003.nc already exists.\n",
      "File prods_op_mogreps-uk_20130401_03_06_003.nc already exists.\n",
      "File prods_op_mogreps-uk_20130401_03_07_003.nc already exists.\n",
      "File prods_op_mogreps-uk_20130401_03_08_003.nc already exists.\n",
      "File prods_op_mogreps-uk_20130401_03_09_003.nc already exists.\n",
      "File prods_op_mogreps-uk_20130401_03_10_003.nc already exists.\n",
      "File prods_op_mogreps-uk_20130401_03_11_003.nc already exists.\n",
      "Variance = 0.5584852\n"
     ]
    },
    {
     "data": {
      "image/png": "[encoded data removed]",
      "text/plain": [
       "<Figure size 432x288 with 1 Axes>"
      ]
     },
     "metadata": {},
     "output_type": "display_data"
    },
    {
     "name": "stdout",
     "output_type": "stream",
     "text": [
      "i=1j=1\n",
      "File prods_op_mogreps-uk_20130401_03_00_003.nc already exists.\n",
      "File prods_op_mogreps-uk_20130401_03_01_003.nc already exists.\n",
      "File prods_op_mogreps-uk_20130401_03_02_003.nc already exists.\n",
      "File prods_op_mogreps-uk_20130401_03_03_003.nc already exists.\n",
      "File prods_op_mogreps-uk_20130401_03_04_003.nc already exists.\n",
      "File prods_op_mogreps-uk_20130401_03_05_003.nc already exists.\n",
      "File prods_op_mogreps-uk_20130401_03_06_003.nc already exists.\n",
      "File prods_op_mogreps-uk_20130401_03_07_003.nc already exists.\n",
      "File prods_op_mogreps-uk_20130401_03_08_003.nc already exists.\n",
      "File prods_op_mogreps-uk_20130401_03_09_003.nc already exists.\n",
      "File prods_op_mogreps-uk_20130401_03_10_003.nc already exists.\n",
      "File prods_op_mogreps-uk_20130401_03_11_003.nc already exists.\n",
      "Variance = 0.5985243\n"
     ]
    },
    {
     "data": {
      "image/png": "[encoded data removed]",
      "text/plain": [
       "<Figure size 432x288 with 1 Axes>"
      ]
     },
     "metadata": {},
     "output_type": "display_data"
    },
    {
     "name": "stdout",
     "output_type": "stream",
     "text": [
      "i=1j=2\n",
      "File prods_op_mogreps-uk_20130401_03_00_003.nc already exists.\n",
      "File prods_op_mogreps-uk_20130401_03_01_003.nc already exists.\n",
      "File prods_op_mogreps-uk_20130401_03_02_003.nc already exists.\n",
      "File prods_op_mogreps-uk_20130401_03_03_003.nc already exists.\n",
      "File prods_op_mogreps-uk_20130401_03_04_003.nc already exists.\n",
      "File prods_op_mogreps-uk_20130401_03_05_003.nc already exists.\n",
      "File prods_op_mogreps-uk_20130401_03_06_003.nc already exists.\n",
      "File prods_op_mogreps-uk_20130401_03_07_003.nc already exists.\n",
      "File prods_op_mogreps-uk_20130401_03_08_003.nc already exists.\n",
      "File prods_op_mogreps-uk_20130401_03_09_003.nc already exists.\n",
      "File prods_op_mogreps-uk_20130401_03_10_003.nc already exists.\n",
      "File prods_op_mogreps-uk_20130401_03_11_003.nc already exists.\n",
      "Variance = 0.61154515\n"
     ]
    },
    {
     "data": {
      "image/png": "[encoded data removed]",
      "text/plain": [
       "<Figure size 432x288 with 1 Axes>"
      ]
     },
     "metadata": {},
     "output_type": "display_data"
    },
    {
     "name": "stdout",
     "output_type": "stream",
     "text": [
      "i=1j=3\n",
      "File prods_op_mogreps-uk_20130401_03_00_003.nc already exists.\n",
      "File prods_op_mogreps-uk_20130401_03_01_003.nc already exists.\n",
      "File prods_op_mogreps-uk_20130401_03_02_003.nc already exists.\n",
      "File prods_op_mogreps-uk_20130401_03_03_003.nc already exists.\n",
      "File prods_op_mogreps-uk_20130401_03_04_003.nc already exists.\n",
      "File prods_op_mogreps-uk_20130401_03_05_003.nc already exists.\n",
      "File prods_op_mogreps-uk_20130401_03_06_003.nc already exists.\n",
      "File prods_op_mogreps-uk_20130401_03_07_003.nc already exists.\n",
      "File prods_op_mogreps-uk_20130401_03_08_003.nc already exists.\n",
      "File prods_op_mogreps-uk_20130401_03_09_003.nc already exists.\n",
      "File prods_op_mogreps-uk_20130401_03_10_003.nc already exists.\n",
      "File prods_op_mogreps-uk_20130401_03_11_003.nc already exists.\n",
      "Variance = 0.58203125\n"
     ]
    },
    {
     "data": {
      "image/png": "[encoded data removed]",
      "text/plain": [
       "<Figure size 432x288 with 1 Axes>"
      ]
     },
     "metadata": {},
     "output_type": "display_data"
    },
    {
     "name": "stdout",
     "output_type": "stream",
     "text": [
      "i=1j=4\n",
      "File prods_op_mogreps-uk_20130401_03_00_003.nc already exists.\n",
      "File prods_op_mogreps-uk_20130401_03_01_003.nc already exists.\n",
      "File prods_op_mogreps-uk_20130401_03_02_003.nc already exists.\n",
      "File prods_op_mogreps-uk_20130401_03_03_003.nc already exists.\n",
      "File prods_op_mogreps-uk_20130401_03_04_003.nc already exists.\n",
      "File prods_op_mogreps-uk_20130401_03_05_003.nc already exists.\n",
      "File prods_op_mogreps-uk_20130401_03_06_003.nc already exists.\n",
      "File prods_op_mogreps-uk_20130401_03_07_003.nc already exists.\n",
      "File prods_op_mogreps-uk_20130401_03_08_003.nc already exists.\n",
      "File prods_op_mogreps-uk_20130401_03_09_003.nc already exists.\n",
      "File prods_op_mogreps-uk_20130401_03_10_003.nc already exists.\n",
      "File prods_op_mogreps-uk_20130401_03_11_003.nc already exists.\n",
      "Variance = 0.5819227\n"
     ]
    },
    {
     "data": {
      "image/png": "[encoded data removed]",
      "text/plain": [
       "<Figure size 432x288 with 1 Axes>"
      ]
     },
     "metadata": {},
     "output_type": "display_data"
    },
    {
     "name": "stdout",
     "output_type": "stream",
     "text": [
      "i=1j=5\n",
      "File prods_op_mogreps-uk_20130401_03_00_003.nc already exists.\n",
      "File prods_op_mogreps-uk_20130401_03_01_003.nc already exists.\n",
      "File prods_op_mogreps-uk_20130401_03_02_003.nc already exists.\n",
      "File prods_op_mogreps-uk_20130401_03_03_003.nc already exists.\n",
      "File prods_op_mogreps-uk_20130401_03_04_003.nc already exists.\n",
      "File prods_op_mogreps-uk_20130401_03_05_003.nc already exists.\n",
      "File prods_op_mogreps-uk_20130401_03_06_003.nc already exists.\n",
      "File prods_op_mogreps-uk_20130401_03_07_003.nc already exists.\n",
      "File prods_op_mogreps-uk_20130401_03_08_003.nc already exists.\n",
      "File prods_op_mogreps-uk_20130401_03_09_003.nc already exists.\n",
      "File prods_op_mogreps-uk_20130401_03_10_003.nc already exists.\n",
      "File prods_op_mogreps-uk_20130401_03_11_003.nc already exists.\n",
      "Variance = 0.60894096\n"
     ]
    },
    {
     "data": {
      "image/png": "[encoded data removed]",
      "text/plain": [
       "<Figure size 432x288 with 1 Axes>"
      ]
     },
     "metadata": {},
     "output_type": "display_data"
    },
    {
     "name": "stdout",
     "output_type": "stream",
     "text": [
      "i=1j=6\n",
      "File prods_op_mogreps-uk_20130401_03_00_003.nc already exists.\n",
      "File prods_op_mogreps-uk_20130401_03_01_003.nc already exists.\n",
      "File prods_op_mogreps-uk_20130401_03_02_003.nc already exists.\n",
      "File prods_op_mogreps-uk_20130401_03_03_003.nc already exists.\n",
      "File prods_op_mogreps-uk_20130401_03_04_003.nc already exists.\n",
      "File prods_op_mogreps-uk_20130401_03_05_003.nc already exists.\n",
      "File prods_op_mogreps-uk_20130401_03_06_003.nc already exists.\n",
      "File prods_op_mogreps-uk_20130401_03_07_003.nc already exists.\n",
      "File prods_op_mogreps-uk_20130401_03_08_003.nc already exists.\n",
      "File prods_op_mogreps-uk_20130401_03_09_003.nc already exists.\n",
      "File prods_op_mogreps-uk_20130401_03_10_003.nc already exists.\n",
      "File prods_op_mogreps-uk_20130401_03_11_003.nc already exists.\n",
      "Variance = 0.6305339\n"
     ]
    },
    {
     "data": {
      "image/png": "[encoded data removed]",
      "text/plain": [
       "<Figure size 432x288 with 1 Axes>"
      ]
     },
     "metadata": {},
     "output_type": "display_data"
    },
    {
     "name": "stdout",
     "output_type": "stream",
     "text": [
      "i=1j=7\n",
      "File prods_op_mogreps-uk_20130401_03_00_003.nc already exists.\n",
      "File prods_op_mogreps-uk_20130401_03_01_003.nc already exists.\n",
      "File prods_op_mogreps-uk_20130401_03_02_003.nc already exists.\n",
      "File prods_op_mogreps-uk_20130401_03_03_003.nc already exists.\n",
      "File prods_op_mogreps-uk_20130401_03_04_003.nc already exists.\n",
      "File prods_op_mogreps-uk_20130401_03_05_003.nc already exists.\n",
      "File prods_op_mogreps-uk_20130401_03_06_003.nc already exists.\n",
      "File prods_op_mogreps-uk_20130401_03_07_003.nc already exists.\n",
      "File prods_op_mogreps-uk_20130401_03_08_003.nc already exists.\n",
      "File prods_op_mogreps-uk_20130401_03_09_003.nc already exists.\n",
      "File prods_op_mogreps-uk_20130401_03_10_003.nc already exists.\n",
      "File prods_op_mogreps-uk_20130401_03_11_003.nc already exists.\n",
      "Variance = 0.5897352\n"
     ]
    },
    {
     "data": {
      "image/png": "[encoded data removed]",
      "text/plain": [
       "<Figure size 432x288 with 1 Axes>"
      ]
     },
     "metadata": {},
     "output_type": "display_data"
    },
    {
     "name": "stdout",
     "output_type": "stream",
     "text": [
      "i=1j=8\n",
      "File prods_op_mogreps-uk_20130401_03_00_003.nc already exists.\n",
      "File prods_op_mogreps-uk_20130401_03_01_003.nc already exists.\n",
      "File prods_op_mogreps-uk_20130401_03_02_003.nc already exists.\n",
      "File prods_op_mogreps-uk_20130401_03_03_003.nc already exists.\n",
      "File prods_op_mogreps-uk_20130401_03_04_003.nc already exists.\n",
      "File prods_op_mogreps-uk_20130401_03_05_003.nc already exists.\n",
      "File prods_op_mogreps-uk_20130401_03_06_003.nc already exists.\n",
      "File prods_op_mogreps-uk_20130401_03_07_003.nc already exists.\n",
      "File prods_op_mogreps-uk_20130401_03_08_003.nc already exists.\n",
      "File prods_op_mogreps-uk_20130401_03_09_003.nc already exists.\n",
      "File prods_op_mogreps-uk_20130401_03_10_003.nc already exists.\n",
      "File prods_op_mogreps-uk_20130401_03_11_003.nc already exists.\n",
      "Variance = 0.6097005\n"
     ]
    },
    {
     "data": {
      "image/png": "[encoded data removed]",
      "text/plain": [
       "<Figure size 432x288 with 1 Axes>"
      ]
     },
     "metadata": {},
     "output_type": "display_data"
    },
    {
     "name": "stdout",
     "output_type": "stream",
     "text": [
      "i=1j=9\n",
      "File prods_op_mogreps-uk_20130401_03_00_003.nc already exists.\n",
      "File prods_op_mogreps-uk_20130401_03_01_003.nc already exists.\n",
      "File prods_op_mogreps-uk_20130401_03_02_003.nc already exists.\n",
      "File prods_op_mogreps-uk_20130401_03_03_003.nc already exists.\n",
      "File prods_op_mogreps-uk_20130401_03_04_003.nc already exists.\n",
      "File prods_op_mogreps-uk_20130401_03_05_003.nc already exists.\n",
      "File prods_op_mogreps-uk_20130401_03_06_003.nc already exists.\n",
      "File prods_op_mogreps-uk_20130401_03_07_003.nc already exists.\n",
      "File prods_op_mogreps-uk_20130401_03_08_003.nc already exists.\n",
      "File prods_op_mogreps-uk_20130401_03_09_003.nc already exists.\n",
      "File prods_op_mogreps-uk_20130401_03_10_003.nc already exists.\n",
      "File prods_op_mogreps-uk_20130401_03_11_003.nc already exists.\n",
      "Variance = 0.5833333\n"
     ]
    },
    {
     "data": {
      "image/png": "[encoded data removed]",
      "text/plain": [
       "<Figure size 432x288 with 1 Axes>"
      ]
     },
     "metadata": {},
     "output_type": "display_data"
    },
    {
     "name": "stdout",
     "output_type": "stream",
     "text": [
      "i=2j=0\n",
      "File prods_op_mogreps-uk_20130401_03_00_003.nc already exists.\n",
      "File prods_op_mogreps-uk_20130401_03_01_003.nc already exists.\n",
      "File prods_op_mogreps-uk_20130401_03_02_003.nc already exists.\n",
      "File prods_op_mogreps-uk_20130401_03_03_003.nc already exists.\n",
      "File prods_op_mogreps-uk_20130401_03_04_003.nc already exists.\n",
      "File prods_op_mogreps-uk_20130401_03_05_003.nc already exists.\n",
      "File prods_op_mogreps-uk_20130401_03_06_003.nc already exists.\n",
      "File prods_op_mogreps-uk_20130401_03_07_003.nc already exists.\n",
      "File prods_op_mogreps-uk_20130401_03_08_003.nc already exists.\n",
      "File prods_op_mogreps-uk_20130401_03_09_003.nc already exists.\n",
      "File prods_op_mogreps-uk_20130401_03_10_003.nc already exists.\n",
      "File prods_op_mogreps-uk_20130401_03_11_003.nc already exists.\n",
      "Variance = 0.5920139\n"
     ]
    },
    {
     "data": {
      "image/png": "[encoded data removed]",
      "text/plain": [
       "<Figure size 432x288 with 1 Axes>"
      ]
     },
     "metadata": {},
     "output_type": "display_data"
    },
    {
     "name": "stdout",
     "output_type": "stream",
     "text": [
      "i=2j=1\n",
      "File prods_op_mogreps-uk_20130401_03_00_003.nc already exists.\n",
      "File prods_op_mogreps-uk_20130401_03_01_003.nc already exists.\n",
      "File prods_op_mogreps-uk_20130401_03_02_003.nc already exists.\n",
      "File prods_op_mogreps-uk_20130401_03_03_003.nc already exists.\n",
      "File prods_op_mogreps-uk_20130401_03_04_003.nc already exists.\n",
      "File prods_op_mogreps-uk_20130401_03_05_003.nc already exists.\n",
      "File prods_op_mogreps-uk_20130401_03_06_003.nc already exists.\n",
      "File prods_op_mogreps-uk_20130401_03_07_003.nc already exists.\n",
      "File prods_op_mogreps-uk_20130401_03_08_003.nc already exists.\n",
      "File prods_op_mogreps-uk_20130401_03_09_003.nc already exists.\n",
      "File prods_op_mogreps-uk_20130401_03_10_003.nc already exists.\n",
      "File prods_op_mogreps-uk_20130401_03_11_003.nc already exists.\n",
      "Variance = 0.61154515\n"
     ]
    },
    {
     "data": {
      "image/png": "[encoded data removed]",
      "text/plain": [
       "<Figure size 432x288 with 1 Axes>"
      ]
     },
     "metadata": {},
     "output_type": "display_data"
    },
    {
     "name": "stdout",
     "output_type": "stream",
     "text": [
      "i=2j=2\n",
      "File prods_op_mogreps-uk_20130401_03_00_003.nc already exists.\n",
      "File prods_op_mogreps-uk_20130401_03_01_003.nc already exists.\n",
      "File prods_op_mogreps-uk_20130401_03_02_003.nc already exists.\n",
      "File prods_op_mogreps-uk_20130401_03_03_003.nc already exists.\n",
      "File prods_op_mogreps-uk_20130401_03_04_003.nc already exists.\n",
      "File prods_op_mogreps-uk_20130401_03_05_003.nc already exists.\n",
      "File prods_op_mogreps-uk_20130401_03_06_003.nc already exists.\n",
      "File prods_op_mogreps-uk_20130401_03_07_003.nc already exists.\n",
      "File prods_op_mogreps-uk_20130401_03_08_003.nc already exists.\n",
      "File prods_op_mogreps-uk_20130401_03_09_003.nc already exists.\n",
      "File prods_op_mogreps-uk_20130401_03_10_003.nc already exists.\n",
      "File prods_op_mogreps-uk_20130401_03_11_003.nc already exists.\n",
      "Variance = 0.61154515\n"
     ]
    },
    {
     "data": {
      "image/png": "[encoded data removed]",
      "text/plain": [
       "<Figure size 432x288 with 1 Axes>"
      ]
     },
     "metadata": {},
     "output_type": "display_data"
    },
    {
     "name": "stdout",
     "output_type": "stream",
     "text": [
      "i=2j=3\n",
      "File prods_op_mogreps-uk_20130401_03_00_003.nc already exists.\n",
      "File prods_op_mogreps-uk_20130401_03_01_003.nc already exists.\n",
      "File prods_op_mogreps-uk_20130401_03_02_003.nc already exists.\n",
      "File prods_op_mogreps-uk_20130401_03_03_003.nc already exists.\n",
      "File prods_op_mogreps-uk_20130401_03_04_003.nc already exists.\n",
      "File prods_op_mogreps-uk_20130401_03_05_003.nc already exists.\n",
      "File prods_op_mogreps-uk_20130401_03_06_003.nc already exists.\n",
      "File prods_op_mogreps-uk_20130401_03_07_003.nc already exists.\n",
      "File prods_op_mogreps-uk_20130401_03_08_003.nc already exists.\n",
      "File prods_op_mogreps-uk_20130401_03_09_003.nc already exists.\n",
      "File prods_op_mogreps-uk_20130401_03_10_003.nc already exists.\n",
      "File prods_op_mogreps-uk_20130401_03_11_003.nc already exists.\n",
      "Variance = 0.5819227\n"
     ]
    },
    {
     "data": {
      "image/png": "[encoded data removed]",
      "text/plain": [
       "<Figure size 432x288 with 1 Axes>"
      ]
     },
     "metadata": {},
     "output_type": "display_data"
    },
    {
     "name": "stdout",
     "output_type": "stream",
     "text": [
      "i=2j=4\n",
      "File prods_op_mogreps-uk_20130401_03_00_003.nc already exists.\n",
      "File prods_op_mogreps-uk_20130401_03_01_003.nc already exists.\n",
      "File prods_op_mogreps-uk_20130401_03_02_003.nc already exists.\n",
      "File prods_op_mogreps-uk_20130401_03_03_003.nc already exists.\n",
      "File prods_op_mogreps-uk_20130401_03_04_003.nc already exists.\n",
      "File prods_op_mogreps-uk_20130401_03_05_003.nc already exists.\n",
      "File prods_op_mogreps-uk_20130401_03_06_003.nc already exists.\n",
      "File prods_op_mogreps-uk_20130401_03_07_003.nc already exists.\n",
      "File prods_op_mogreps-uk_20130401_03_08_003.nc already exists.\n",
      "File prods_op_mogreps-uk_20130401_03_09_003.nc already exists.\n",
      "File prods_op_mogreps-uk_20130401_03_10_003.nc already exists.\n",
      "File prods_op_mogreps-uk_20130401_03_11_003.nc already exists.\n",
      "Variance = 0.5992839\n"
     ]
    },
    {
     "data": {
      "image/png": "[encoded data removed]",
      "text/plain": [
       "<Figure size 432x288 with 1 Axes>"
      ]
     },
     "metadata": {},
     "output_type": "display_data"
    },
    {
     "name": "stdout",
     "output_type": "stream",
     "text": [
      "i=2j=5\n",
      "File prods_op_mogreps-uk_20130401_03_00_003.nc already exists.\n",
      "File prods_op_mogreps-uk_20130401_03_01_003.nc already exists.\n",
      "File prods_op_mogreps-uk_20130401_03_02_003.nc already exists.\n",
      "File prods_op_mogreps-uk_20130401_03_03_003.nc already exists.\n",
      "File prods_op_mogreps-uk_20130401_03_04_003.nc already exists.\n",
      "File prods_op_mogreps-uk_20130401_03_05_003.nc already exists.\n",
      "File prods_op_mogreps-uk_20130401_03_06_003.nc already exists.\n",
      "File prods_op_mogreps-uk_20130401_03_07_003.nc already exists.\n",
      "File prods_op_mogreps-uk_20130401_03_08_003.nc already exists.\n",
      "File prods_op_mogreps-uk_20130401_03_09_003.nc already exists.\n",
      "File prods_op_mogreps-uk_20130401_03_10_003.nc already exists.\n",
      "File prods_op_mogreps-uk_20130401_03_11_003.nc already exists.\n",
      "Variance = 0.6522352\n"
     ]
    },
    {
     "data": {
      "image/png": "[encoded data removed]",
      "text/plain": [
       "<Figure size 432x288 with 1 Axes>"
      ]
     },
     "metadata": {},
     "output_type": "display_data"
    },
    {
     "name": "stdout",
     "output_type": "stream",
     "text": [
      "i=2j=6\n",
      "File prods_op_mogreps-uk_20130401_03_00_003.nc already exists.\n",
      "File prods_op_mogreps-uk_20130401_03_01_003.nc already exists.\n",
      "File prods_op_mogreps-uk_20130401_03_02_003.nc already exists.\n",
      "File prods_op_mogreps-uk_20130401_03_03_003.nc already exists.\n",
      "File prods_op_mogreps-uk_20130401_03_04_003.nc already exists.\n",
      "File prods_op_mogreps-uk_20130401_03_05_003.nc already exists.\n",
      "File prods_op_mogreps-uk_20130401_03_06_003.nc already exists.\n",
      "File prods_op_mogreps-uk_20130401_03_07_003.nc already exists.\n",
      "File prods_op_mogreps-uk_20130401_03_08_003.nc already exists.\n",
      "File prods_op_mogreps-uk_20130401_03_09_003.nc already exists.\n",
      "File prods_op_mogreps-uk_20130401_03_10_003.nc already exists.\n",
      "File prods_op_mogreps-uk_20130401_03_11_003.nc already exists.\n",
      "Variance = 0.61848956\n"
     ]
    },
    {
     "data": {
      "image/png": "[encoded data removed]",
      "text/plain": [
       "<Figure size 432x288 with 1 Axes>"
      ]
     },
     "metadata": {},
     "output_type": "display_data"
    },
    {
     "name": "stdout",
     "output_type": "stream",
     "text": [
      "i=2j=7\n",
      "File prods_op_mogreps-uk_20130401_03_00_003.nc already exists.\n",
      "File prods_op_mogreps-uk_20130401_03_01_003.nc already exists.\n",
      "File prods_op_mogreps-uk_20130401_03_02_003.nc already exists.\n",
      "File prods_op_mogreps-uk_20130401_03_03_003.nc already exists.\n",
      "File prods_op_mogreps-uk_20130401_03_04_003.nc already exists.\n",
      "File prods_op_mogreps-uk_20130401_03_05_003.nc already exists.\n",
      "File prods_op_mogreps-uk_20130401_03_06_003.nc already exists.\n",
      "File prods_op_mogreps-uk_20130401_03_07_003.nc already exists.\n",
      "File prods_op_mogreps-uk_20130401_03_08_003.nc already exists.\n",
      "File prods_op_mogreps-uk_20130401_03_09_003.nc already exists.\n",
      "File prods_op_mogreps-uk_20130401_03_10_003.nc already exists.\n",
      "File prods_op_mogreps-uk_20130401_03_11_003.nc already exists.\n",
      "Variance = 0.5998264\n"
     ]
    },
    {
     "data": {
      "image/png": "[encoded data removed]",
      "text/plain": [
       "<Figure size 432x288 with 1 Axes>"
      ]
     },
     "metadata": {},
     "output_type": "display_data"
    },
    {
     "name": "stdout",
     "output_type": "stream",
     "text": [
      "i=2j=8\n",
      "File prods_op_mogreps-uk_20130401_03_00_003.nc already exists.\n",
      "File prods_op_mogreps-uk_20130401_03_01_003.nc already exists.\n",
      "File prods_op_mogreps-uk_20130401_03_02_003.nc already exists.\n",
      "File prods_op_mogreps-uk_20130401_03_03_003.nc already exists.\n",
      "File prods_op_mogreps-uk_20130401_03_04_003.nc already exists.\n",
      "File prods_op_mogreps-uk_20130401_03_05_003.nc already exists.\n",
      "File prods_op_mogreps-uk_20130401_03_06_003.nc already exists.\n",
      "File prods_op_mogreps-uk_20130401_03_07_003.nc already exists.\n",
      "File prods_op_mogreps-uk_20130401_03_08_003.nc already exists.\n",
      "File prods_op_mogreps-uk_20130401_03_09_003.nc already exists.\n",
      "File prods_op_mogreps-uk_20130401_03_10_003.nc already exists.\n",
      "File prods_op_mogreps-uk_20130401_03_11_003.nc already exists.\n",
      "Variance = 0.6131727\n"
     ]
    },
    {
     "data": {
      "image/png": "[encoded data removed]",
      "text/plain": [
       "<Figure size 432x288 with 1 Axes>"
      ]
     },
     "metadata": {},
     "output_type": "display_data"
    },
    {
     "name": "stdout",
     "output_type": "stream",
     "text": [
      "i=2j=9\n",
      "File prods_op_mogreps-uk_20130401_03_00_003.nc already exists.\n",
      "File prods_op_mogreps-uk_20130401_03_01_003.nc already exists.\n",
      "File prods_op_mogreps-uk_20130401_03_02_003.nc already exists.\n",
      "File prods_op_mogreps-uk_20130401_03_03_003.nc already exists.\n",
      "File prods_op_mogreps-uk_20130401_03_04_003.nc already exists.\n",
      "File prods_op_mogreps-uk_20130401_03_05_003.nc already exists.\n",
      "File prods_op_mogreps-uk_20130401_03_06_003.nc already exists.\n",
      "File prods_op_mogreps-uk_20130401_03_07_003.nc already exists.\n",
      "File prods_op_mogreps-uk_20130401_03_08_003.nc already exists.\n",
      "File prods_op_mogreps-uk_20130401_03_09_003.nc already exists.\n",
      "File prods_op_mogreps-uk_20130401_03_10_003.nc already exists.\n",
      "File prods_op_mogreps-uk_20130401_03_11_003.nc already exists.\n",
      "Variance = 0.6261936\n"
     ]
    },
    {
     "data": {
      "image/png": "[encoded data removed]",
      "text/plain": [
       "<Figure size 432x288 with 1 Axes>"
      ]
     },
     "metadata": {},
     "output_type": "display_data"
    },
    {
     "name": "stdout",
     "output_type": "stream",
     "text": [
      "i=3j=0\n",
      "File prods_op_mogreps-uk_20130401_03_00_003.nc already exists.\n",
      "File prods_op_mogreps-uk_20130401_03_01_003.nc already exists.\n",
      "File prods_op_mogreps-uk_20130401_03_02_003.nc already exists.\n",
      "File prods_op_mogreps-uk_20130401_03_03_003.nc already exists.\n",
      "File prods_op_mogreps-uk_20130401_03_04_003.nc already exists.\n",
      "File prods_op_mogreps-uk_20130401_03_05_003.nc already exists.\n",
      "File prods_op_mogreps-uk_20130401_03_06_003.nc already exists.\n",
      "File prods_op_mogreps-uk_20130401_03_07_003.nc already exists.\n",
      "File prods_op_mogreps-uk_20130401_03_08_003.nc already exists.\n",
      "File prods_op_mogreps-uk_20130401_03_09_003.nc already exists.\n",
      "File prods_op_mogreps-uk_20130401_03_10_003.nc already exists.\n",
      "File prods_op_mogreps-uk_20130401_03_11_003.nc already exists.\n",
      "Variance = 0.6079644\n"
     ]
    },
    {
     "data": {
      "image/png": "[encoded data removed]",
      "text/plain": [
       "<Figure size 432x288 with 1 Axes>"
      ]
     },
     "metadata": {},
     "output_type": "display_data"
    },
    {
     "name": "stdout",
     "output_type": "stream",
     "text": [
      "i=3j=1\n",
      "File prods_op_mogreps-uk_20130401_03_00_003.nc already exists.\n",
      "File prods_op_mogreps-uk_20130401_03_01_003.nc already exists.\n",
      "File prods_op_mogreps-uk_20130401_03_02_003.nc already exists.\n",
      "File prods_op_mogreps-uk_20130401_03_03_003.nc already exists.\n",
      "File prods_op_mogreps-uk_20130401_03_04_003.nc already exists.\n",
      "File prods_op_mogreps-uk_20130401_03_05_003.nc already exists.\n",
      "File prods_op_mogreps-uk_20130401_03_06_003.nc already exists.\n",
      "File prods_op_mogreps-uk_20130401_03_07_003.nc already exists.\n",
      "File prods_op_mogreps-uk_20130401_03_08_003.nc already exists.\n",
      "File prods_op_mogreps-uk_20130401_03_09_003.nc already exists.\n",
      "File prods_op_mogreps-uk_20130401_03_10_003.nc already exists.\n",
      "File prods_op_mogreps-uk_20130401_03_11_003.nc already exists.\n",
      "Variance = 0.61154515\n"
     ]
    },
    {
     "data": {
      "image/png": "[encoded data removed]",
      "text/plain": [
       "<Figure size 432x288 with 1 Axes>"
      ]
     },
     "metadata": {},
     "output_type": "display_data"
    },
    {
     "name": "stdout",
     "output_type": "stream",
     "text": [
      "i=3j=2\n",
      "File prods_op_mogreps-uk_20130401_03_00_003.nc already exists.\n",
      "File prods_op_mogreps-uk_20130401_03_01_003.nc already exists.\n",
      "File prods_op_mogreps-uk_20130401_03_02_003.nc already exists.\n",
      "File prods_op_mogreps-uk_20130401_03_03_003.nc already exists.\n",
      "File prods_op_mogreps-uk_20130401_03_04_003.nc already exists.\n",
      "File prods_op_mogreps-uk_20130401_03_05_003.nc already exists.\n",
      "File prods_op_mogreps-uk_20130401_03_06_003.nc already exists.\n",
      "File prods_op_mogreps-uk_20130401_03_07_003.nc already exists.\n",
      "File prods_op_mogreps-uk_20130401_03_08_003.nc already exists.\n",
      "File prods_op_mogreps-uk_20130401_03_09_003.nc already exists.\n",
      "File prods_op_mogreps-uk_20130401_03_10_003.nc already exists.\n",
      "File prods_op_mogreps-uk_20130401_03_11_003.nc already exists.\n",
      "Variance = 0.5920139\n"
     ]
    },
    {
     "data": {
      "image/png": "[encoded data removed]",
      "text/plain": [
       "<Figure size 432x288 with 1 Axes>"
      ]
     },
     "metadata": {},
     "output_type": "display_data"
    },
    {
     "name": "stdout",
     "output_type": "stream",
     "text": [
      "i=3j=3\n",
      "File prods_op_mogreps-uk_20130401_03_00_003.nc already exists.\n",
      "File prods_op_mogreps-uk_20130401_03_01_003.nc already exists.\n",
      "File prods_op_mogreps-uk_20130401_03_02_003.nc already exists.\n",
      "File prods_op_mogreps-uk_20130401_03_03_003.nc already exists.\n",
      "File prods_op_mogreps-uk_20130401_03_04_003.nc already exists.\n",
      "File prods_op_mogreps-uk_20130401_03_05_003.nc already exists.\n",
      "File prods_op_mogreps-uk_20130401_03_06_003.nc already exists.\n",
      "File prods_op_mogreps-uk_20130401_03_07_003.nc already exists.\n",
      "File prods_op_mogreps-uk_20130401_03_08_003.nc already exists.\n",
      "File prods_op_mogreps-uk_20130401_03_09_003.nc already exists.\n",
      "File prods_op_mogreps-uk_20130401_03_10_003.nc already exists.\n",
      "File prods_op_mogreps-uk_20130401_03_11_003.nc already exists.\n",
      "Variance = 0.6253255\n"
     ]
    },
    {
     "data": {
      "image/png": "[encoded data removed]",
      "text/plain": [
       "<Figure size 432x288 with 1 Axes>"
      ]
     },
     "metadata": {},
     "output_type": "display_data"
    },
    {
     "name": "stdout",
     "output_type": "stream",
     "text": [
      "i=3j=4\n",
      "File prods_op_mogreps-uk_20130401_03_00_003.nc already exists.\n",
      "File prods_op_mogreps-uk_20130401_03_01_003.nc already exists.\n",
      "File prods_op_mogreps-uk_20130401_03_02_003.nc already exists.\n",
      "File prods_op_mogreps-uk_20130401_03_03_003.nc already exists.\n",
      "File prods_op_mogreps-uk_20130401_03_04_003.nc already exists.\n",
      "File prods_op_mogreps-uk_20130401_03_05_003.nc already exists.\n",
      "File prods_op_mogreps-uk_20130401_03_06_003.nc already exists.\n",
      "File prods_op_mogreps-uk_20130401_03_07_003.nc already exists.\n",
      "File prods_op_mogreps-uk_20130401_03_08_003.nc already exists.\n",
      "File prods_op_mogreps-uk_20130401_03_09_003.nc already exists.\n",
      "File prods_op_mogreps-uk_20130401_03_10_003.nc already exists.\n",
      "File prods_op_mogreps-uk_20130401_03_11_003.nc already exists.\n",
      "Variance = 0.6484375\n"
     ]
    },
    {
     "data": {
      "image/png": "[encoded data removed]",
      "text/plain": [
       "<Figure size 432x288 with 1 Axes>"
      ]
     },
     "metadata": {},
     "output_type": "display_data"
    },
    {
     "name": "stdout",
     "output_type": "stream",
     "text": [
      "i=3j=5\n",
      "File prods_op_mogreps-uk_20130401_03_00_003.nc already exists.\n",
      "File prods_op_mogreps-uk_20130401_03_01_003.nc already exists.\n",
      "File prods_op_mogreps-uk_20130401_03_02_003.nc already exists.\n",
      "File prods_op_mogreps-uk_20130401_03_03_003.nc already exists.\n",
      "File prods_op_mogreps-uk_20130401_03_04_003.nc already exists.\n",
      "File prods_op_mogreps-uk_20130401_03_05_003.nc already exists.\n",
      "File prods_op_mogreps-uk_20130401_03_06_003.nc already exists.\n",
      "File prods_op_mogreps-uk_20130401_03_07_003.nc already exists.\n",
      "File prods_op_mogreps-uk_20130401_03_08_003.nc already exists.\n",
      "File prods_op_mogreps-uk_20130401_03_09_003.nc already exists.\n",
      "File prods_op_mogreps-uk_20130401_03_10_003.nc already exists.\n",
      "File prods_op_mogreps-uk_20130401_03_11_003.nc already exists.\n",
      "Variance = 0.625868\n"
     ]
    },
    {
     "data": {
      "image/png": "[encoded data removed]",
      "text/plain": [
       "<Figure size 432x288 with 1 Axes>"
      ]
     },
     "metadata": {},
     "output_type": "display_data"
    },
    {
     "name": "stdout",
     "output_type": "stream",
     "text": [
      "i=3j=6\n",
      "File prods_op_mogreps-uk_20130401_03_00_003.nc already exists.\n",
      "File prods_op_mogreps-uk_20130401_03_01_003.nc already exists.\n",
      "File prods_op_mogreps-uk_20130401_03_02_003.nc already exists.\n",
      "File prods_op_mogreps-uk_20130401_03_03_003.nc already exists.\n",
      "File prods_op_mogreps-uk_20130401_03_04_003.nc already exists.\n",
      "File prods_op_mogreps-uk_20130401_03_05_003.nc already exists.\n",
      "File prods_op_mogreps-uk_20130401_03_06_003.nc already exists.\n",
      "File prods_op_mogreps-uk_20130401_03_07_003.nc already exists.\n",
      "File prods_op_mogreps-uk_20130401_03_08_003.nc already exists.\n",
      "File prods_op_mogreps-uk_20130401_03_09_003.nc already exists.\n",
      "File prods_op_mogreps-uk_20130401_03_10_003.nc already exists.\n",
      "File prods_op_mogreps-uk_20130401_03_11_003.nc already exists.\n",
      "Variance = 0.5897352\n"
     ]
    },
    {
     "data": {
      "image/png": "[encoded data removed]",
      "text/plain": [
       "<Figure size 432x288 with 1 Axes>"
      ]
     },
     "metadata": {},
     "output_type": "display_data"
    },
    {
     "name": "stdout",
     "output_type": "stream",
     "text": [
      "i=3j=7\n",
      "File prods_op_mogreps-uk_20130401_03_00_003.nc already exists.\n",
      "File prods_op_mogreps-uk_20130401_03_01_003.nc already exists.\n",
      "File prods_op_mogreps-uk_20130401_03_02_003.nc already exists.\n",
      "File prods_op_mogreps-uk_20130401_03_03_003.nc already exists.\n",
      "File prods_op_mogreps-uk_20130401_03_04_003.nc already exists.\n",
      "File prods_op_mogreps-uk_20130401_03_05_003.nc already exists.\n",
      "File prods_op_mogreps-uk_20130401_03_06_003.nc already exists.\n",
      "File prods_op_mogreps-uk_20130401_03_07_003.nc already exists.\n",
      "File prods_op_mogreps-uk_20130401_03_08_003.nc already exists.\n",
      "File prods_op_mogreps-uk_20130401_03_09_003.nc already exists.\n",
      "File prods_op_mogreps-uk_20130401_03_10_003.nc already exists.\n",
      "File prods_op_mogreps-uk_20130401_03_11_003.nc already exists.\n",
      "Variance = 0.60894096\n"
     ]
    },
    {
     "data": {
      "image/png": "[encoded data removed]",
      "text/plain": [
       "<Figure size 432x288 with 1 Axes>"
      ]
     },
     "metadata": {},
     "output_type": "display_data"
    },
    {
     "name": "stdout",
     "output_type": "stream",
     "text": [
      "i=3j=8\n",
      "File prods_op_mogreps-uk_20130401_03_00_003.nc already exists.\n",
      "File prods_op_mogreps-uk_20130401_03_01_003.nc already exists.\n",
      "File prods_op_mogreps-uk_20130401_03_02_003.nc already exists.\n",
      "File prods_op_mogreps-uk_20130401_03_03_003.nc already exists.\n",
      "File prods_op_mogreps-uk_20130401_03_04_003.nc already exists.\n",
      "File prods_op_mogreps-uk_20130401_03_05_003.nc already exists.\n",
      "File prods_op_mogreps-uk_20130401_03_06_003.nc already exists.\n",
      "File prods_op_mogreps-uk_20130401_03_07_003.nc already exists.\n",
      "File prods_op_mogreps-uk_20130401_03_08_003.nc already exists.\n",
      "File prods_op_mogreps-uk_20130401_03_09_003.nc already exists.\n",
      "File prods_op_mogreps-uk_20130401_03_10_003.nc already exists.\n",
      "File prods_op_mogreps-uk_20130401_03_11_003.nc already exists.\n",
      "Variance = 0.6149089\n"
     ]
    },
    {
     "data": {
      "image/png": "[encoded data removed]",
      "text/plain": [
       "<Figure size 432x288 with 1 Axes>"
      ]
     },
     "metadata": {},
     "output_type": "display_data"
    },
    {
     "name": "stdout",
     "output_type": "stream",
     "text": [
      "i=3j=9\n",
      "File prods_op_mogreps-uk_20130401_03_00_003.nc already exists.\n",
      "File prods_op_mogreps-uk_20130401_03_01_003.nc already exists.\n",
      "File prods_op_mogreps-uk_20130401_03_02_003.nc already exists.\n",
      "File prods_op_mogreps-uk_20130401_03_03_003.nc already exists.\n",
      "File prods_op_mogreps-uk_20130401_03_04_003.nc already exists.\n",
      "File prods_op_mogreps-uk_20130401_03_05_003.nc already exists.\n",
      "File prods_op_mogreps-uk_20130401_03_06_003.nc already exists.\n",
      "File prods_op_mogreps-uk_20130401_03_07_003.nc already exists.\n",
      "File prods_op_mogreps-uk_20130401_03_08_003.nc already exists.\n",
      "File prods_op_mogreps-uk_20130401_03_09_003.nc already exists.\n",
      "File prods_op_mogreps-uk_20130401_03_10_003.nc already exists.\n",
      "File prods_op_mogreps-uk_20130401_03_11_003.nc already exists.\n",
      "Variance = 0.6261936\n"
     ]
    },
    {
     "data": {
      "image/png": "[encoded data removed]",
      "text/plain": [
       "<Figure size 432x288 with 1 Axes>"
      ]
     },
     "metadata": {},
     "output_type": "display_data"
    },
    {
     "name": "stdout",
     "output_type": "stream",
     "text": [
      "i=4j=0\n",
      "File prods_op_mogreps-uk_20130401_03_00_003.nc already exists.\n",
      "File prods_op_mogreps-uk_20130401_03_01_003.nc already exists.\n",
      "File prods_op_mogreps-uk_20130401_03_02_003.nc already exists.\n",
      "File prods_op_mogreps-uk_20130401_03_03_003.nc already exists.\n",
      "File prods_op_mogreps-uk_20130401_03_04_003.nc already exists.\n",
      "File prods_op_mogreps-uk_20130401_03_05_003.nc already exists.\n",
      "File prods_op_mogreps-uk_20130401_03_06_003.nc already exists.\n",
      "File prods_op_mogreps-uk_20130401_03_07_003.nc already exists.\n",
      "File prods_op_mogreps-uk_20130401_03_08_003.nc already exists.\n",
      "File prods_op_mogreps-uk_20130401_03_09_003.nc already exists.\n",
      "File prods_op_mogreps-uk_20130401_03_10_003.nc already exists.\n",
      "File prods_op_mogreps-uk_20130401_03_11_003.nc already exists.\n",
      "Variance = 0.61154515\n"
     ]
    },
    {
     "data": {
      "image/png": "[encoded data removed]",
      "text/plain": [
       "<Figure size 432x288 with 1 Axes>"
      ]
     },
     "metadata": {},
     "output_type": "display_data"
    },
    {
     "name": "stdout",
     "output_type": "stream",
     "text": [
      "i=4j=1\n",
      "File prods_op_mogreps-uk_20130401_03_00_003.nc already exists.\n",
      "File prods_op_mogreps-uk_20130401_03_01_003.nc already exists.\n",
      "File prods_op_mogreps-uk_20130401_03_02_003.nc already exists.\n",
      "File prods_op_mogreps-uk_20130401_03_03_003.nc already exists.\n",
      "File prods_op_mogreps-uk_20130401_03_04_003.nc already exists.\n",
      "File prods_op_mogreps-uk_20130401_03_05_003.nc already exists.\n",
      "File prods_op_mogreps-uk_20130401_03_06_003.nc already exists.\n",
      "File prods_op_mogreps-uk_20130401_03_07_003.nc already exists.\n",
      "File prods_op_mogreps-uk_20130401_03_08_003.nc already exists.\n",
      "File prods_op_mogreps-uk_20130401_03_09_003.nc already exists.\n",
      "File prods_op_mogreps-uk_20130401_03_10_003.nc already exists.\n",
      "File prods_op_mogreps-uk_20130401_03_11_003.nc already exists.\n",
      "Variance = 0.6076389\n"
     ]
    },
    {
     "data": {
      "image/png": "[encoded data removed]",
      "text/plain": [
       "<Figure size 432x288 with 1 Axes>"
      ]
     },
     "metadata": {},
     "output_type": "display_data"
    },
    {
     "name": "stdout",
     "output_type": "stream",
     "text": [
      "i=4j=2\n",
      "File prods_op_mogreps-uk_20130401_03_00_003.nc already exists.\n",
      "File prods_op_mogreps-uk_20130401_03_01_003.nc already exists.\n",
      "File prods_op_mogreps-uk_20130401_03_02_003.nc already exists.\n",
      "File prods_op_mogreps-uk_20130401_03_03_003.nc already exists.\n",
      "File prods_op_mogreps-uk_20130401_03_04_003.nc already exists.\n",
      "File prods_op_mogreps-uk_20130401_03_05_003.nc already exists.\n",
      "File prods_op_mogreps-uk_20130401_03_06_003.nc already exists.\n",
      "File prods_op_mogreps-uk_20130401_03_07_003.nc already exists.\n",
      "File prods_op_mogreps-uk_20130401_03_08_003.nc already exists.\n",
      "File prods_op_mogreps-uk_20130401_03_09_003.nc already exists.\n",
      "File prods_op_mogreps-uk_20130401_03_10_003.nc already exists.\n",
      "File prods_op_mogreps-uk_20130401_03_11_003.nc already exists.\n",
      "Variance = 0.6253255\n"
     ]
    },
    {
     "data": {
      "image/png": "[encoded data removed]",
      "text/plain": [
       "<Figure size 432x288 with 1 Axes>"
      ]
     },
     "metadata": {},
     "output_type": "display_data"
    },
    {
     "name": "stdout",
     "output_type": "stream",
     "text": [
      "i=4j=3\n",
      "File prods_op_mogreps-uk_20130401_03_00_003.nc already exists.\n",
      "File prods_op_mogreps-uk_20130401_03_01_003.nc already exists.\n",
      "File prods_op_mogreps-uk_20130401_03_02_003.nc already exists.\n",
      "File prods_op_mogreps-uk_20130401_03_03_003.nc already exists.\n",
      "File prods_op_mogreps-uk_20130401_03_04_003.nc already exists.\n",
      "File prods_op_mogreps-uk_20130401_03_05_003.nc already exists.\n",
      "File prods_op_mogreps-uk_20130401_03_06_003.nc already exists.\n",
      "File prods_op_mogreps-uk_20130401_03_07_003.nc already exists.\n",
      "File prods_op_mogreps-uk_20130401_03_08_003.nc already exists.\n",
      "File prods_op_mogreps-uk_20130401_03_09_003.nc already exists.\n",
      "File prods_op_mogreps-uk_20130401_03_10_003.nc already exists.\n",
      "File prods_op_mogreps-uk_20130401_03_11_003.nc already exists.\n",
      "Variance = 0.6418186\n"
     ]
    },
    {
     "data": {
      "image/png": "[encoded data removed]",
      "text/plain": [
       "<Figure size 432x288 with 1 Axes>"
      ]
     },
     "metadata": {},
     "output_type": "display_data"
    },
    {
     "name": "stdout",
     "output_type": "stream",
     "text": [
      "i=4j=4\n",
      "File prods_op_mogreps-uk_20130401_03_00_003.nc already exists.\n",
      "File prods_op_mogreps-uk_20130401_03_01_003.nc already exists.\n",
      "File prods_op_mogreps-uk_20130401_03_02_003.nc already exists.\n",
      "File prods_op_mogreps-uk_20130401_03_03_003.nc already exists.\n",
      "File prods_op_mogreps-uk_20130401_03_04_003.nc already exists.\n",
      "File prods_op_mogreps-uk_20130401_03_05_003.nc already exists.\n",
      "File prods_op_mogreps-uk_20130401_03_06_003.nc already exists.\n",
      "File prods_op_mogreps-uk_20130401_03_07_003.nc already exists.\n",
      "File prods_op_mogreps-uk_20130401_03_08_003.nc already exists.\n",
      "File prods_op_mogreps-uk_20130401_03_09_003.nc already exists.\n",
      "File prods_op_mogreps-uk_20130401_03_10_003.nc already exists.\n",
      "File prods_op_mogreps-uk_20130401_03_11_003.nc already exists.\n",
      "Variance = 0.6409505\n"
     ]
    },
    {
     "data": {
      "image/png": "[encoded data removed]",
      "text/plain": [
       "<Figure size 432x288 with 1 Axes>"
      ]
     },
     "metadata": {},
     "output_type": "display_data"
    },
    {
     "name": "stdout",
     "output_type": "stream",
     "text": [
      "i=4j=5\n",
      "File prods_op_mogreps-uk_20130401_03_00_003.nc already exists.\n",
      "File prods_op_mogreps-uk_20130401_03_01_003.nc already exists.\n",
      "File prods_op_mogreps-uk_20130401_03_02_003.nc already exists.\n",
      "File prods_op_mogreps-uk_20130401_03_03_003.nc already exists.\n",
      "File prods_op_mogreps-uk_20130401_03_04_003.nc already exists.\n",
      "File prods_op_mogreps-uk_20130401_03_05_003.nc already exists.\n",
      "File prods_op_mogreps-uk_20130401_03_06_003.nc already exists.\n",
      "File prods_op_mogreps-uk_20130401_03_07_003.nc already exists.\n",
      "File prods_op_mogreps-uk_20130401_03_08_003.nc already exists.\n",
      "File prods_op_mogreps-uk_20130401_03_09_003.nc already exists.\n",
      "File prods_op_mogreps-uk_20130401_03_10_003.nc already exists.\n",
      "File prods_op_mogreps-uk_20130401_03_11_003.nc already exists.\n",
      "Variance = 0.5894097\n"
     ]
    },
    {
     "data": {
      "image/png": "[encoded data removed]",
      "text/plain": [
       "<Figure size 432x288 with 1 Axes>"
      ]
     },
     "metadata": {},
     "output_type": "display_data"
    },
    {
     "name": "stdout",
     "output_type": "stream",
     "text": [
      "i=4j=6\n",
      "File prods_op_mogreps-uk_20130401_03_00_003.nc already exists.\n",
      "File prods_op_mogreps-uk_20130401_03_01_003.nc already exists.\n",
      "File prods_op_mogreps-uk_20130401_03_02_003.nc already exists.\n",
      "File prods_op_mogreps-uk_20130401_03_03_003.nc already exists.\n",
      "File prods_op_mogreps-uk_20130401_03_04_003.nc already exists.\n",
      "File prods_op_mogreps-uk_20130401_03_05_003.nc already exists.\n",
      "File prods_op_mogreps-uk_20130401_03_06_003.nc already exists.\n",
      "File prods_op_mogreps-uk_20130401_03_07_003.nc already exists.\n",
      "File prods_op_mogreps-uk_20130401_03_08_003.nc already exists.\n",
      "File prods_op_mogreps-uk_20130401_03_09_003.nc already exists.\n",
      "File prods_op_mogreps-uk_20130401_03_10_003.nc already exists.\n",
      "File prods_op_mogreps-uk_20130401_03_11_003.nc already exists.\n",
      "Variance = 0.60894096\n"
     ]
    },
    {
     "data": {
      "image/png": "[encoded data removed]",
      "text/plain": [
       "<Figure size 432x288 with 1 Axes>"
      ]
     },
     "metadata": {},
     "output_type": "display_data"
    },
    {
     "name": "stdout",
     "output_type": "stream",
     "text": [
      "i=4j=7\n",
      "File prods_op_mogreps-uk_20130401_03_00_003.nc already exists.\n",
      "File prods_op_mogreps-uk_20130401_03_01_003.nc already exists.\n",
      "File prods_op_mogreps-uk_20130401_03_02_003.nc already exists.\n",
      "File prods_op_mogreps-uk_20130401_03_03_003.nc already exists.\n",
      "File prods_op_mogreps-uk_20130401_03_04_003.nc already exists.\n",
      "File prods_op_mogreps-uk_20130401_03_05_003.nc already exists.\n",
      "File prods_op_mogreps-uk_20130401_03_06_003.nc already exists.\n",
      "File prods_op_mogreps-uk_20130401_03_07_003.nc already exists.\n",
      "File prods_op_mogreps-uk_20130401_03_08_003.nc already exists.\n",
      "File prods_op_mogreps-uk_20130401_03_09_003.nc already exists.\n",
      "File prods_op_mogreps-uk_20130401_03_10_003.nc already exists.\n",
      "File prods_op_mogreps-uk_20130401_03_11_003.nc already exists.\n",
      "Variance = 0.6219618\n"
     ]
    },
    {
     "data": {
      "image/png": "[encoded data removed]",
      "text/plain": [
       "<Figure size 432x288 with 1 Axes>"
      ]
     },
     "metadata": {},
     "output_type": "display_data"
    },
    {
     "name": "stdout",
     "output_type": "stream",
     "text": [
      "i=4j=8\n",
      "File prods_op_mogreps-uk_20130401_03_00_003.nc already exists.\n",
      "File prods_op_mogreps-uk_20130401_03_01_003.nc already exists.\n",
      "File prods_op_mogreps-uk_20130401_03_02_003.nc already exists.\n",
      "File prods_op_mogreps-uk_20130401_03_03_003.nc already exists.\n",
      "File prods_op_mogreps-uk_20130401_03_04_003.nc already exists.\n",
      "File prods_op_mogreps-uk_20130401_03_05_003.nc already exists.\n",
      "File prods_op_mogreps-uk_20130401_03_06_003.nc already exists.\n",
      "File prods_op_mogreps-uk_20130401_03_07_003.nc already exists.\n",
      "File prods_op_mogreps-uk_20130401_03_08_003.nc already exists.\n",
      "File prods_op_mogreps-uk_20130401_03_09_003.nc already exists.\n",
      "File prods_op_mogreps-uk_20130401_03_10_003.nc already exists.\n",
      "File prods_op_mogreps-uk_20130401_03_11_003.nc already exists.\n",
      "Variance = 0.6261936\n"
     ]
    },
    {
     "data": {
      "image/png": "[encoded data removed]",
      "text/plain": [
       "<Figure size 432x288 with 1 Axes>"
      ]
     },
     "metadata": {},
     "output_type": "display_data"
    },
    {
     "name": "stdout",
     "output_type": "stream",
     "text": [
      "i=4j=9\n",
      "File prods_op_mogreps-uk_20130401_03_00_003.nc already exists.\n",
      "File prods_op_mogreps-uk_20130401_03_01_003.nc already exists.\n",
      "File prods_op_mogreps-uk_20130401_03_02_003.nc already exists.\n",
      "File prods_op_mogreps-uk_20130401_03_03_003.nc already exists.\n",
      "File prods_op_mogreps-uk_20130401_03_04_003.nc already exists.\n",
      "File prods_op_mogreps-uk_20130401_03_05_003.nc already exists.\n",
      "File prods_op_mogreps-uk_20130401_03_06_003.nc already exists.\n",
      "File prods_op_mogreps-uk_20130401_03_07_003.nc already exists.\n",
      "File prods_op_mogreps-uk_20130401_03_08_003.nc already exists.\n",
      "File prods_op_mogreps-uk_20130401_03_09_003.nc already exists.\n",
      "File prods_op_mogreps-uk_20130401_03_10_003.nc already exists.\n",
      "File prods_op_mogreps-uk_20130401_03_11_003.nc already exists.\n",
      "Variance = 0.6261936\n"
     ]
    },
    {
     "data": {
      "image/png": "[encoded data removed]",
      "text/plain": [
       "<Figure size 432x288 with 1 Axes>"
      ]
     },
     "metadata": {},
     "output_type": "display_data"
    },
    {
     "name": "stdout",
     "output_type": "stream",
     "text": [
      "i=5j=0\n",
      "File prods_op_mogreps-uk_20130401_03_00_003.nc already exists.\n",
      "File prods_op_mogreps-uk_20130401_03_01_003.nc already exists.\n",
      "File prods_op_mogreps-uk_20130401_03_02_003.nc already exists.\n",
      "File prods_op_mogreps-uk_20130401_03_03_003.nc already exists.\n",
      "File prods_op_mogreps-uk_20130401_03_04_003.nc already exists.\n",
      "File prods_op_mogreps-uk_20130401_03_05_003.nc already exists.\n",
      "File prods_op_mogreps-uk_20130401_03_06_003.nc already exists.\n",
      "File prods_op_mogreps-uk_20130401_03_07_003.nc already exists.\n",
      "File prods_op_mogreps-uk_20130401_03_08_003.nc already exists.\n",
      "File prods_op_mogreps-uk_20130401_03_09_003.nc already exists.\n",
      "File prods_op_mogreps-uk_20130401_03_10_003.nc already exists.\n",
      "File prods_op_mogreps-uk_20130401_03_11_003.nc already exists.\n",
      "Variance = 0.6388889\n"
     ]
    },
    {
     "data": {
      "image/png": "[encoded data removed]",
      "text/plain": [
       "<Figure size 432x288 with 1 Axes>"
      ]
     },
     "metadata": {},
     "output_type": "display_data"
    },
    {
     "name": "stdout",
     "output_type": "stream",
     "text": [
      "i=5j=1\n",
      "File prods_op_mogreps-uk_20130401_03_00_003.nc already exists.\n",
      "File prods_op_mogreps-uk_20130401_03_01_003.nc already exists.\n",
      "File prods_op_mogreps-uk_20130401_03_02_003.nc already exists.\n",
      "File prods_op_mogreps-uk_20130401_03_03_003.nc already exists.\n",
      "File prods_op_mogreps-uk_20130401_03_04_003.nc already exists.\n",
      "File prods_op_mogreps-uk_20130401_03_05_003.nc already exists.\n",
      "File prods_op_mogreps-uk_20130401_03_06_003.nc already exists.\n",
      "File prods_op_mogreps-uk_20130401_03_07_003.nc already exists.\n",
      "File prods_op_mogreps-uk_20130401_03_08_003.nc already exists.\n",
      "File prods_op_mogreps-uk_20130401_03_09_003.nc already exists.\n",
      "File prods_op_mogreps-uk_20130401_03_10_003.nc already exists.\n",
      "File prods_op_mogreps-uk_20130401_03_11_003.nc already exists.\n",
      "Variance = 0.6253255\n"
     ]
    },
    {
     "data": {
      "image/png": "[encoded data removed]",
      "text/plain": [
       "<Figure size 432x288 with 1 Axes>"
      ]
     },
     "metadata": {},
     "output_type": "display_data"
    },
    {
     "name": "stdout",
     "output_type": "stream",
     "text": [
      "i=5j=2\n",
      "File prods_op_mogreps-uk_20130401_03_00_003.nc already exists.\n",
      "File prods_op_mogreps-uk_20130401_03_01_003.nc already exists.\n",
      "File prods_op_mogreps-uk_20130401_03_02_003.nc already exists.\n",
      "File prods_op_mogreps-uk_20130401_03_03_003.nc already exists.\n",
      "File prods_op_mogreps-uk_20130401_03_04_003.nc already exists.\n",
      "File prods_op_mogreps-uk_20130401_03_05_003.nc already exists.\n",
      "File prods_op_mogreps-uk_20130401_03_06_003.nc already exists.\n",
      "File prods_op_mogreps-uk_20130401_03_07_003.nc already exists.\n",
      "File prods_op_mogreps-uk_20130401_03_08_003.nc already exists.\n",
      "File prods_op_mogreps-uk_20130401_03_09_003.nc already exists.\n",
      "File prods_op_mogreps-uk_20130401_03_10_003.nc already exists.\n",
      "File prods_op_mogreps-uk_20130401_03_11_003.nc already exists.\n",
      "Variance = 0.6418186\n"
     ]
    },
    {
     "data": {
      "image/png": "[encoded data removed]",
      "text/plain": [
       "<Figure size 432x288 with 1 Axes>"
      ]
     },
     "metadata": {},
     "output_type": "display_data"
    },
    {
     "name": "stdout",
     "output_type": "stream",
     "text": [
      "i=5j=3\n",
      "File prods_op_mogreps-uk_20130401_03_00_003.nc already exists.\n",
      "File prods_op_mogreps-uk_20130401_03_01_003.nc already exists.\n",
      "File prods_op_mogreps-uk_20130401_03_02_003.nc already exists.\n",
      "File prods_op_mogreps-uk_20130401_03_03_003.nc already exists.\n",
      "File prods_op_mogreps-uk_20130401_03_04_003.nc already exists.\n",
      "File prods_op_mogreps-uk_20130401_03_05_003.nc already exists.\n",
      "File prods_op_mogreps-uk_20130401_03_06_003.nc already exists.\n",
      "File prods_op_mogreps-uk_20130401_03_07_003.nc already exists.\n",
      "File prods_op_mogreps-uk_20130401_03_08_003.nc already exists.\n",
      "File prods_op_mogreps-uk_20130401_03_09_003.nc already exists.\n",
      "File prods_op_mogreps-uk_20130401_03_10_003.nc already exists.\n",
      "File prods_op_mogreps-uk_20130401_03_11_003.nc already exists.\n",
      "Variance = 0.64800346\n"
     ]
    },
    {
     "data": {
      "image/png": "[encoded data removed]",
      "text/plain": [
       "<Figure size 432x288 with 1 Axes>"
      ]
     },
     "metadata": {},
     "output_type": "display_data"
    },
    {
     "name": "stdout",
     "output_type": "stream",
     "text": [
      "i=5j=4\n",
      "File prods_op_mogreps-uk_20130401_03_00_003.nc already exists.\n",
      "File prods_op_mogreps-uk_20130401_03_01_003.nc already exists.\n",
      "File prods_op_mogreps-uk_20130401_03_02_003.nc already exists.\n",
      "File prods_op_mogreps-uk_20130401_03_03_003.nc already exists.\n",
      "File prods_op_mogreps-uk_20130401_03_04_003.nc already exists.\n",
      "File prods_op_mogreps-uk_20130401_03_05_003.nc already exists.\n",
      "File prods_op_mogreps-uk_20130401_03_06_003.nc already exists.\n",
      "File prods_op_mogreps-uk_20130401_03_07_003.nc already exists.\n",
      "File prods_op_mogreps-uk_20130401_03_08_003.nc already exists.\n",
      "File prods_op_mogreps-uk_20130401_03_09_003.nc already exists.\n",
      "File prods_op_mogreps-uk_20130401_03_10_003.nc already exists.\n",
      "File prods_op_mogreps-uk_20130401_03_11_003.nc already exists.\n",
      "Variance = 0.5897352\n"
     ]
    },
    {
     "data": {
      "image/png": "[encoded data removed]",
      "text/plain": [
       "<Figure size 432x288 with 1 Axes>"
      ]
     },
     "metadata": {},
     "output_type": "display_data"
    },
    {
     "name": "stdout",
     "output_type": "stream",
     "text": [
      "i=5j=5\n",
      "File prods_op_mogreps-uk_20130401_03_00_003.nc already exists.\n",
      "File prods_op_mogreps-uk_20130401_03_01_003.nc already exists.\n",
      "File prods_op_mogreps-uk_20130401_03_02_003.nc already exists.\n",
      "File prods_op_mogreps-uk_20130401_03_03_003.nc already exists.\n",
      "File prods_op_mogreps-uk_20130401_03_04_003.nc already exists.\n",
      "File prods_op_mogreps-uk_20130401_03_05_003.nc already exists.\n",
      "File prods_op_mogreps-uk_20130401_03_06_003.nc already exists.\n",
      "File prods_op_mogreps-uk_20130401_03_07_003.nc already exists.\n",
      "File prods_op_mogreps-uk_20130401_03_08_003.nc already exists.\n",
      "File prods_op_mogreps-uk_20130401_03_09_003.nc already exists.\n",
      "File prods_op_mogreps-uk_20130401_03_10_003.nc already exists.\n",
      "File prods_op_mogreps-uk_20130401_03_11_003.nc already exists.\n",
      "Variance = 0.6227214\n"
     ]
    },
    {
     "data": {
      "image/png": "[encoded data removed]",
      "text/plain": [
       "<Figure size 432x288 with 1 Axes>"
      ]
     },
     "metadata": {},
     "output_type": "display_data"
    },
    {
     "name": "stdout",
     "output_type": "stream",
     "text": [
      "i=5j=6\n",
      "File prods_op_mogreps-uk_20130401_03_00_003.nc already exists.\n",
      "File prods_op_mogreps-uk_20130401_03_01_003.nc already exists.\n",
      "File prods_op_mogreps-uk_20130401_03_02_003.nc already exists.\n",
      "File prods_op_mogreps-uk_20130401_03_03_003.nc already exists.\n",
      "File prods_op_mogreps-uk_20130401_03_04_003.nc already exists.\n",
      "File prods_op_mogreps-uk_20130401_03_05_003.nc already exists.\n",
      "File prods_op_mogreps-uk_20130401_03_06_003.nc already exists.\n",
      "File prods_op_mogreps-uk_20130401_03_07_003.nc already exists.\n",
      "File prods_op_mogreps-uk_20130401_03_08_003.nc already exists.\n",
      "File prods_op_mogreps-uk_20130401_03_09_003.nc already exists.\n",
      "File prods_op_mogreps-uk_20130401_03_10_003.nc already exists.\n",
      "File prods_op_mogreps-uk_20130401_03_11_003.nc already exists.\n",
      "Variance = 0.6453993\n"
     ]
    },
    {
     "data": {
      "image/png": "[encoded data removed]",
      "text/plain": [
       "<Figure size 432x288 with 1 Axes>"
      ]
     },
     "metadata": {},
     "output_type": "display_data"
    },
    {
     "name": "stdout",
     "output_type": "stream",
     "text": [
      "i=5j=7\n",
      "File prods_op_mogreps-uk_20130401_03_00_003.nc already exists.\n",
      "File prods_op_mogreps-uk_20130401_03_01_003.nc already exists.\n",
      "File prods_op_mogreps-uk_20130401_03_02_003.nc already exists.\n",
      "File prods_op_mogreps-uk_20130401_03_03_003.nc already exists.\n",
      "File prods_op_mogreps-uk_20130401_03_04_003.nc already exists.\n",
      "File prods_op_mogreps-uk_20130401_03_05_003.nc already exists.\n",
      "File prods_op_mogreps-uk_20130401_03_06_003.nc already exists.\n",
      "File prods_op_mogreps-uk_20130401_03_07_003.nc already exists.\n",
      "File prods_op_mogreps-uk_20130401_03_08_003.nc already exists.\n",
      "File prods_op_mogreps-uk_20130401_03_09_003.nc already exists.\n",
      "File prods_op_mogreps-uk_20130401_03_10_003.nc already exists.\n",
      "File prods_op_mogreps-uk_20130401_03_11_003.nc already exists.\n",
      "Variance = 0.6149089\n"
     ]
    },
    {
     "data": {
      "image/png": "[encoded data removed]",
      "text/plain": [
       "<Figure size 432x288 with 1 Axes>"
      ]
     },
     "metadata": {},
     "output_type": "display_data"
    },
    {
     "name": "stdout",
     "output_type": "stream",
     "text": [
      "i=5j=8\n",
      "File prods_op_mogreps-uk_20130401_03_00_003.nc already exists.\n",
      "File prods_op_mogreps-uk_20130401_03_01_003.nc already exists.\n",
      "File prods_op_mogreps-uk_20130401_03_02_003.nc already exists.\n",
      "File prods_op_mogreps-uk_20130401_03_03_003.nc already exists.\n",
      "File prods_op_mogreps-uk_20130401_03_04_003.nc already exists.\n",
      "File prods_op_mogreps-uk_20130401_03_05_003.nc already exists.\n",
      "File prods_op_mogreps-uk_20130401_03_06_003.nc already exists.\n",
      "File prods_op_mogreps-uk_20130401_03_07_003.nc already exists.\n",
      "File prods_op_mogreps-uk_20130401_03_08_003.nc already exists.\n",
      "File prods_op_mogreps-uk_20130401_03_09_003.nc already exists.\n",
      "File prods_op_mogreps-uk_20130401_03_10_003.nc already exists.\n",
      "File prods_op_mogreps-uk_20130401_03_11_003.nc already exists.\n",
      "Variance = 0.62109375\n"
     ]
    },
    {
     "data": {
      "image/png": "[encoded data removed]",
      "text/plain": [
       "<Figure size 432x288 with 1 Axes>"
      ]
     },
     "metadata": {},
     "output_type": "display_data"
    },
    {
     "name": "stdout",
     "output_type": "stream",
     "text": [
      "i=5j=9\n",
      "File prods_op_mogreps-uk_20130401_03_00_003.nc already exists.\n",
      "File prods_op_mogreps-uk_20130401_03_01_003.nc already exists.\n",
      "File prods_op_mogreps-uk_20130401_03_02_003.nc already exists.\n",
      "File prods_op_mogreps-uk_20130401_03_03_003.nc already exists.\n",
      "File prods_op_mogreps-uk_20130401_03_04_003.nc already exists.\n",
      "File prods_op_mogreps-uk_20130401_03_05_003.nc already exists.\n",
      "File prods_op_mogreps-uk_20130401_03_06_003.nc already exists.\n",
      "File prods_op_mogreps-uk_20130401_03_07_003.nc already exists.\n",
      "File prods_op_mogreps-uk_20130401_03_08_003.nc already exists.\n",
      "File prods_op_mogreps-uk_20130401_03_09_003.nc already exists.\n",
      "File prods_op_mogreps-uk_20130401_03_10_003.nc already exists.\n",
      "File prods_op_mogreps-uk_20130401_03_11_003.nc already exists.\n",
      "Variance = 0.6362847\n"
     ]
    },
    {
     "data": {
      "image/png": "[encoded data removed]",
      "text/plain": [
       "<Figure size 432x288 with 1 Axes>"
      ]
     },
     "metadata": {},
     "output_type": "display_data"
    },
    {
     "name": "stdout",
     "output_type": "stream",
     "text": [
      "i=6j=0\n",
      "File prods_op_mogreps-uk_20130401_03_00_003.nc already exists.\n",
      "File prods_op_mogreps-uk_20130401_03_01_003.nc already exists.\n",
      "File prods_op_mogreps-uk_20130401_03_02_003.nc already exists.\n",
      "File prods_op_mogreps-uk_20130401_03_03_003.nc already exists.\n",
      "File prods_op_mogreps-uk_20130401_03_04_003.nc already exists.\n",
      "File prods_op_mogreps-uk_20130401_03_05_003.nc already exists.\n",
      "File prods_op_mogreps-uk_20130401_03_06_003.nc already exists.\n",
      "File prods_op_mogreps-uk_20130401_03_07_003.nc already exists.\n",
      "File prods_op_mogreps-uk_20130401_03_08_003.nc already exists.\n",
      "File prods_op_mogreps-uk_20130401_03_09_003.nc already exists.\n",
      "File prods_op_mogreps-uk_20130401_03_10_003.nc already exists.\n",
      "File prods_op_mogreps-uk_20130401_03_11_003.nc already exists.\n",
      "Variance = 0.6522352\n"
     ]
    },
    {
     "data": {
      "image/png": "[encoded data removed]",
      "text/plain": [
       "<Figure size 432x288 with 1 Axes>"
      ]
     },
     "metadata": {},
     "output_type": "display_data"
    },
    {
     "name": "stdout",
     "output_type": "stream",
     "text": [
      "i=6j=1\n",
      "File prods_op_mogreps-uk_20130401_03_00_003.nc already exists.\n",
      "File prods_op_mogreps-uk_20130401_03_01_003.nc already exists.\n",
      "File prods_op_mogreps-uk_20130401_03_02_003.nc already exists.\n",
      "File prods_op_mogreps-uk_20130401_03_03_003.nc already exists.\n",
      "File prods_op_mogreps-uk_20130401_03_04_003.nc already exists.\n",
      "File prods_op_mogreps-uk_20130401_03_05_003.nc already exists.\n",
      "File prods_op_mogreps-uk_20130401_03_06_003.nc already exists.\n",
      "File prods_op_mogreps-uk_20130401_03_07_003.nc already exists.\n",
      "File prods_op_mogreps-uk_20130401_03_08_003.nc already exists.\n",
      "File prods_op_mogreps-uk_20130401_03_09_003.nc already exists.\n",
      "File prods_op_mogreps-uk_20130401_03_10_003.nc already exists.\n",
      "File prods_op_mogreps-uk_20130401_03_11_003.nc already exists.\n",
      "Variance = 0.6418186\n"
     ]
    },
    {
     "data": {
      "image/png": "[encoded data removed]",
      "text/plain": [
       "<Figure size 432x288 with 1 Axes>"
      ]
     },
     "metadata": {},
     "output_type": "display_data"
    },
    {
     "name": "stdout",
     "output_type": "stream",
     "text": [
      "i=6j=2\n",
      "File prods_op_mogreps-uk_20130401_03_00_003.nc already exists.\n",
      "File prods_op_mogreps-uk_20130401_03_01_003.nc already exists.\n",
      "File prods_op_mogreps-uk_20130401_03_02_003.nc already exists.\n",
      "File prods_op_mogreps-uk_20130401_03_03_003.nc already exists.\n",
      "File prods_op_mogreps-uk_20130401_03_04_003.nc already exists.\n",
      "File prods_op_mogreps-uk_20130401_03_05_003.nc already exists.\n",
      "File prods_op_mogreps-uk_20130401_03_06_003.nc already exists.\n",
      "File prods_op_mogreps-uk_20130401_03_07_003.nc already exists.\n",
      "File prods_op_mogreps-uk_20130401_03_08_003.nc already exists.\n",
      "File prods_op_mogreps-uk_20130401_03_09_003.nc already exists.\n",
      "File prods_op_mogreps-uk_20130401_03_10_003.nc already exists.\n",
      "File prods_op_mogreps-uk_20130401_03_11_003.nc already exists.\n",
      "Variance = 0.6380208\n"
     ]
    },
    {
     "data": {
      "image/png": "[encoded data removed]",
      "text/plain": [
       "<Figure size 432x288 with 1 Axes>"
      ]
     },
     "metadata": {},
     "output_type": "display_data"
    },
    {
     "name": "stdout",
     "output_type": "stream",
     "text": [
      "i=6j=3\n",
      "File prods_op_mogreps-uk_20130401_03_00_003.nc already exists.\n",
      "File prods_op_mogreps-uk_20130401_03_01_003.nc already exists.\n",
      "File prods_op_mogreps-uk_20130401_03_02_003.nc already exists.\n",
      "File prods_op_mogreps-uk_20130401_03_03_003.nc already exists.\n",
      "File prods_op_mogreps-uk_20130401_03_04_003.nc already exists.\n",
      "File prods_op_mogreps-uk_20130401_03_05_003.nc already exists.\n",
      "File prods_op_mogreps-uk_20130401_03_06_003.nc already exists.\n",
      "File prods_op_mogreps-uk_20130401_03_07_003.nc already exists.\n",
      "File prods_op_mogreps-uk_20130401_03_08_003.nc already exists.\n",
      "File prods_op_mogreps-uk_20130401_03_09_003.nc already exists.\n",
      "File prods_op_mogreps-uk_20130401_03_10_003.nc already exists.\n",
      "File prods_op_mogreps-uk_20130401_03_11_003.nc already exists.\n",
      "Variance = 0.58203125\n"
     ]
    },
    {
     "data": {
      "image/png": "[encoded data removed]",
      "text/plain": [
       "<Figure size 432x288 with 1 Axes>"
      ]
     },
     "metadata": {},
     "output_type": "display_data"
    },
    {
     "name": "stdout",
     "output_type": "stream",
     "text": [
      "i=6j=4\n",
      "File prods_op_mogreps-uk_20130401_03_00_003.nc already exists.\n",
      "File prods_op_mogreps-uk_20130401_03_01_003.nc already exists.\n",
      "File prods_op_mogreps-uk_20130401_03_02_003.nc already exists.\n",
      "File prods_op_mogreps-uk_20130401_03_03_003.nc already exists.\n",
      "File prods_op_mogreps-uk_20130401_03_04_003.nc already exists.\n",
      "File prods_op_mogreps-uk_20130401_03_05_003.nc already exists.\n",
      "File prods_op_mogreps-uk_20130401_03_06_003.nc already exists.\n",
      "File prods_op_mogreps-uk_20130401_03_07_003.nc already exists.\n",
      "File prods_op_mogreps-uk_20130401_03_08_003.nc already exists.\n",
      "File prods_op_mogreps-uk_20130401_03_09_003.nc already exists.\n",
      "File prods_op_mogreps-uk_20130401_03_10_003.nc already exists.\n",
      "File prods_op_mogreps-uk_20130401_03_11_003.nc already exists.\n",
      "Variance = 0.6227214\n"
     ]
    },
    {
     "data": {
      "image/png": "[encoded data removed]",
      "text/plain": [
       "<Figure size 432x288 with 1 Axes>"
      ]
     },
     "metadata": {},
     "output_type": "display_data"
    },
    {
     "name": "stdout",
     "output_type": "stream",
     "text": [
      "i=6j=5\n",
      "File prods_op_mogreps-uk_20130401_03_00_003.nc already exists.\n",
      "File prods_op_mogreps-uk_20130401_03_01_003.nc already exists.\n",
      "File prods_op_mogreps-uk_20130401_03_02_003.nc already exists.\n",
      "File prods_op_mogreps-uk_20130401_03_03_003.nc already exists.\n",
      "File prods_op_mogreps-uk_20130401_03_04_003.nc already exists.\n",
      "File prods_op_mogreps-uk_20130401_03_05_003.nc already exists.\n",
      "File prods_op_mogreps-uk_20130401_03_06_003.nc already exists.\n",
      "File prods_op_mogreps-uk_20130401_03_07_003.nc already exists.\n",
      "File prods_op_mogreps-uk_20130401_03_08_003.nc already exists.\n",
      "File prods_op_mogreps-uk_20130401_03_09_003.nc already exists.\n",
      "File prods_op_mogreps-uk_20130401_03_10_003.nc already exists.\n",
      "File prods_op_mogreps-uk_20130401_03_11_003.nc already exists.\n",
      "Variance = 0.6432292\n"
     ]
    },
    {
     "data": {
      "image/png": "[encoded data removed]",
      "text/plain": [
       "<Figure size 432x288 with 1 Axes>"
      ]
     },
     "metadata": {},
     "output_type": "display_data"
    },
    {
     "name": "stdout",
     "output_type": "stream",
     "text": [
      "i=6j=6\n",
      "File prods_op_mogreps-uk_20130401_03_00_003.nc already exists.\n",
      "File prods_op_mogreps-uk_20130401_03_01_003.nc already exists.\n",
      "File prods_op_mogreps-uk_20130401_03_02_003.nc already exists.\n",
      "File prods_op_mogreps-uk_20130401_03_03_003.nc already exists.\n",
      "File prods_op_mogreps-uk_20130401_03_04_003.nc already exists.\n",
      "File prods_op_mogreps-uk_20130401_03_05_003.nc already exists.\n",
      "File prods_op_mogreps-uk_20130401_03_06_003.nc already exists.\n",
      "File prods_op_mogreps-uk_20130401_03_07_003.nc already exists.\n",
      "File prods_op_mogreps-uk_20130401_03_08_003.nc already exists.\n",
      "File prods_op_mogreps-uk_20130401_03_09_003.nc already exists.\n",
      "File prods_op_mogreps-uk_20130401_03_10_003.nc already exists.\n",
      "File prods_op_mogreps-uk_20130401_03_11_003.nc already exists.\n",
      "Variance = 0.6149089\n"
     ]
    },
    {
     "data": {
      "image/png": "[encoded data removed]",
      "text/plain": [
       "<Figure size 432x288 with 1 Axes>"
      ]
     },
     "metadata": {},
     "output_type": "display_data"
    },
    {
     "name": "stdout",
     "output_type": "stream",
     "text": [
      "i=6j=7\n",
      "File prods_op_mogreps-uk_20130401_03_00_003.nc already exists.\n",
      "File prods_op_mogreps-uk_20130401_03_01_003.nc already exists.\n",
      "File prods_op_mogreps-uk_20130401_03_02_003.nc already exists.\n",
      "File prods_op_mogreps-uk_20130401_03_03_003.nc already exists.\n",
      "File prods_op_mogreps-uk_20130401_03_04_003.nc already exists.\n",
      "File prods_op_mogreps-uk_20130401_03_05_003.nc already exists.\n",
      "File prods_op_mogreps-uk_20130401_03_06_003.nc already exists.\n",
      "File prods_op_mogreps-uk_20130401_03_07_003.nc already exists.\n",
      "File prods_op_mogreps-uk_20130401_03_08_003.nc already exists.\n",
      "File prods_op_mogreps-uk_20130401_03_09_003.nc already exists.\n",
      "File prods_op_mogreps-uk_20130401_03_10_003.nc already exists.\n",
      "File prods_op_mogreps-uk_20130401_03_11_003.nc already exists.\n",
      "Variance = 0.62109375\n"
     ]
    },
    {
     "data": {
      "image/png": "[encoded data removed]",
      "text/plain": [
       "<Figure size 432x288 with 1 Axes>"
      ]
     },
     "metadata": {},
     "output_type": "display_data"
    },
    {
     "name": "stdout",
     "output_type": "stream",
     "text": [
      "i=6j=8\n",
      "File prods_op_mogreps-uk_20130401_03_00_003.nc already exists.\n",
      "File prods_op_mogreps-uk_20130401_03_01_003.nc already exists.\n",
      "File prods_op_mogreps-uk_20130401_03_02_003.nc already exists.\n",
      "File prods_op_mogreps-uk_20130401_03_03_003.nc already exists.\n",
      "File prods_op_mogreps-uk_20130401_03_04_003.nc already exists.\n",
      "File prods_op_mogreps-uk_20130401_03_05_003.nc already exists.\n",
      "File prods_op_mogreps-uk_20130401_03_06_003.nc already exists.\n",
      "File prods_op_mogreps-uk_20130401_03_07_003.nc already exists.\n",
      "File prods_op_mogreps-uk_20130401_03_08_003.nc already exists.\n",
      "File prods_op_mogreps-uk_20130401_03_09_003.nc already exists.\n",
      "File prods_op_mogreps-uk_20130401_03_10_003.nc already exists.\n",
      "File prods_op_mogreps-uk_20130401_03_11_003.nc already exists.\n",
      "Variance = 0.62109375\n"
     ]
    },
    {
     "data": {
      "image/png": "[encoded data removed]",
      "text/plain": [
       "<Figure size 432x288 with 1 Axes>"
      ]
     },
     "metadata": {},
     "output_type": "display_data"
    },
    {
     "name": "stdout",
     "output_type": "stream",
     "text": [
      "i=6j=9\n",
      "File prods_op_mogreps-uk_20130401_03_00_003.nc already exists.\n",
      "File prods_op_mogreps-uk_20130401_03_01_003.nc already exists.\n",
      "File prods_op_mogreps-uk_20130401_03_02_003.nc already exists.\n",
      "File prods_op_mogreps-uk_20130401_03_03_003.nc already exists.\n",
      "File prods_op_mogreps-uk_20130401_03_04_003.nc already exists.\n",
      "File prods_op_mogreps-uk_20130401_03_05_003.nc already exists.\n",
      "File prods_op_mogreps-uk_20130401_03_06_003.nc already exists.\n",
      "File prods_op_mogreps-uk_20130401_03_07_003.nc already exists.\n",
      "File prods_op_mogreps-uk_20130401_03_08_003.nc already exists.\n",
      "File prods_op_mogreps-uk_20130401_03_09_003.nc already exists.\n",
      "File prods_op_mogreps-uk_20130401_03_10_003.nc already exists.\n",
      "File prods_op_mogreps-uk_20130401_03_11_003.nc already exists.\n",
      "Variance = 0.6067708\n"
     ]
    },
    {
     "data": {
      "image/png": "[encoded data removed]",
      "text/plain": [
       "<Figure size 432x288 with 1 Axes>"
      ]
     },
     "metadata": {},
     "output_type": "display_data"
    },
    {
     "name": "stdout",
     "output_type": "stream",
     "text": [
      "i=7j=0\n",
      "File prods_op_mogreps-uk_20130401_03_00_003.nc already exists.\n",
      "File prods_op_mogreps-uk_20130401_03_01_003.nc already exists.\n",
      "File prods_op_mogreps-uk_20130401_03_02_003.nc already exists.\n",
      "File prods_op_mogreps-uk_20130401_03_03_003.nc already exists.\n",
      "File prods_op_mogreps-uk_20130401_03_04_003.nc already exists.\n",
      "File prods_op_mogreps-uk_20130401_03_05_003.nc already exists.\n",
      "File prods_op_mogreps-uk_20130401_03_06_003.nc already exists.\n",
      "File prods_op_mogreps-uk_20130401_03_07_003.nc already exists.\n",
      "File prods_op_mogreps-uk_20130401_03_08_003.nc already exists.\n",
      "File prods_op_mogreps-uk_20130401_03_09_003.nc already exists.\n",
      "File prods_op_mogreps-uk_20130401_03_10_003.nc already exists.\n",
      "File prods_op_mogreps-uk_20130401_03_11_003.nc already exists.\n",
      "Variance = 0.63237846\n"
     ]
    },
    {
     "data": {
      "image/png": "[encoded data removed]",
      "text/plain": [
       "<Figure size 432x288 with 1 Axes>"
      ]
     },
     "metadata": {},
     "output_type": "display_data"
    },
    {
     "name": "stdout",
     "output_type": "stream",
     "text": [
      "i=7j=1\n",
      "File prods_op_mogreps-uk_20130401_03_00_003.nc already exists.\n",
      "File prods_op_mogreps-uk_20130401_03_01_003.nc already exists.\n",
      "File prods_op_mogreps-uk_20130401_03_02_003.nc already exists.\n",
      "File prods_op_mogreps-uk_20130401_03_03_003.nc already exists.\n",
      "File prods_op_mogreps-uk_20130401_03_04_003.nc already exists.\n",
      "File prods_op_mogreps-uk_20130401_03_05_003.nc already exists.\n",
      "File prods_op_mogreps-uk_20130401_03_06_003.nc already exists.\n",
      "File prods_op_mogreps-uk_20130401_03_07_003.nc already exists.\n",
      "File prods_op_mogreps-uk_20130401_03_08_003.nc already exists.\n",
      "File prods_op_mogreps-uk_20130401_03_09_003.nc already exists.\n",
      "File prods_op_mogreps-uk_20130401_03_10_003.nc already exists.\n",
      "File prods_op_mogreps-uk_20130401_03_11_003.nc already exists.\n",
      "Variance = 0.6380208\n"
     ]
    },
    {
     "data": {
      "image/png": "[encoded data removed]",
      "text/plain": [
       "<Figure size 432x288 with 1 Axes>"
      ]
     },
     "metadata": {},
     "output_type": "display_data"
    },
    {
     "name": "stdout",
     "output_type": "stream",
     "text": [
      "i=7j=2\n",
      "File prods_op_mogreps-uk_20130401_03_00_003.nc already exists.\n",
      "File prods_op_mogreps-uk_20130401_03_01_003.nc already exists.\n",
      "File prods_op_mogreps-uk_20130401_03_02_003.nc already exists.\n",
      "File prods_op_mogreps-uk_20130401_03_03_003.nc already exists.\n",
      "File prods_op_mogreps-uk_20130401_03_04_003.nc already exists.\n",
      "File prods_op_mogreps-uk_20130401_03_05_003.nc already exists.\n",
      "File prods_op_mogreps-uk_20130401_03_06_003.nc already exists.\n",
      "File prods_op_mogreps-uk_20130401_03_07_003.nc already exists.\n",
      "File prods_op_mogreps-uk_20130401_03_08_003.nc already exists.\n",
      "File prods_op_mogreps-uk_20130401_03_09_003.nc already exists.\n",
      "File prods_op_mogreps-uk_20130401_03_10_003.nc already exists.\n",
      "File prods_op_mogreps-uk_20130401_03_11_003.nc already exists.\n",
      "Variance = 0.64713544\n"
     ]
    },
    {
     "data": {
      "image/png": "[encoded data removed]",
      "text/plain": [
       "<Figure size 432x288 with 1 Axes>"
      ]
     },
     "metadata": {},
     "output_type": "display_data"
    },
    {
     "name": "stdout",
     "output_type": "stream",
     "text": [
      "i=7j=3\n",
      "File prods_op_mogreps-uk_20130401_03_00_003.nc already exists.\n",
      "File prods_op_mogreps-uk_20130401_03_01_003.nc already exists.\n",
      "File prods_op_mogreps-uk_20130401_03_02_003.nc already exists.\n",
      "File prods_op_mogreps-uk_20130401_03_03_003.nc already exists.\n",
      "File prods_op_mogreps-uk_20130401_03_04_003.nc already exists.\n",
      "File prods_op_mogreps-uk_20130401_03_05_003.nc already exists.\n",
      "File prods_op_mogreps-uk_20130401_03_06_003.nc already exists.\n",
      "File prods_op_mogreps-uk_20130401_03_07_003.nc already exists.\n",
      "File prods_op_mogreps-uk_20130401_03_08_003.nc already exists.\n",
      "File prods_op_mogreps-uk_20130401_03_09_003.nc already exists.\n",
      "File prods_op_mogreps-uk_20130401_03_10_003.nc already exists.\n",
      "File prods_op_mogreps-uk_20130401_03_11_003.nc already exists.\n",
      "Variance = 0.6154514\n"
     ]
    },
    {
     "data": {
      "image/png": "[encoded data removed]",
      "text/plain": [
       "<Figure size 432x288 with 1 Axes>"
      ]
     },
     "metadata": {},
     "output_type": "display_data"
    },
    {
     "name": "stdout",
     "output_type": "stream",
     "text": [
      "i=7j=4\n",
      "File prods_op_mogreps-uk_20130401_03_00_003.nc already exists.\n",
      "File prods_op_mogreps-uk_20130401_03_01_003.nc already exists.\n",
      "File prods_op_mogreps-uk_20130401_03_02_003.nc already exists.\n",
      "File prods_op_mogreps-uk_20130401_03_03_003.nc already exists.\n",
      "File prods_op_mogreps-uk_20130401_03_04_003.nc already exists.\n",
      "File prods_op_mogreps-uk_20130401_03_05_003.nc already exists.\n",
      "File prods_op_mogreps-uk_20130401_03_06_003.nc already exists.\n",
      "File prods_op_mogreps-uk_20130401_03_07_003.nc already exists.\n",
      "File prods_op_mogreps-uk_20130401_03_08_003.nc already exists.\n",
      "File prods_op_mogreps-uk_20130401_03_09_003.nc already exists.\n",
      "File prods_op_mogreps-uk_20130401_03_10_003.nc already exists.\n",
      "File prods_op_mogreps-uk_20130401_03_11_003.nc already exists.\n",
      "Variance = 0.6432292\n"
     ]
    },
    {
     "data": {
      "image/png": "[encoded data removed]",
      "text/plain": [
       "<Figure size 432x288 with 1 Axes>"
      ]
     },
     "metadata": {},
     "output_type": "display_data"
    },
    {
     "name": "stdout",
     "output_type": "stream",
     "text": [
      "i=7j=5\n",
      "File prods_op_mogreps-uk_20130401_03_00_003.nc already exists.\n",
      "File prods_op_mogreps-uk_20130401_03_01_003.nc already exists.\n",
      "File prods_op_mogreps-uk_20130401_03_02_003.nc already exists.\n",
      "File prods_op_mogreps-uk_20130401_03_03_003.nc already exists.\n",
      "File prods_op_mogreps-uk_20130401_03_04_003.nc already exists.\n",
      "File prods_op_mogreps-uk_20130401_03_05_003.nc already exists.\n",
      "File prods_op_mogreps-uk_20130401_03_06_003.nc already exists.\n",
      "File prods_op_mogreps-uk_20130401_03_07_003.nc already exists.\n",
      "File prods_op_mogreps-uk_20130401_03_08_003.nc already exists.\n",
      "File prods_op_mogreps-uk_20130401_03_09_003.nc already exists.\n",
      "File prods_op_mogreps-uk_20130401_03_10_003.nc already exists.\n",
      "File prods_op_mogreps-uk_20130401_03_11_003.nc already exists.\n",
      "Variance = 0.6453993\n"
     ]
    },
    {
     "data": {
      "image/png": "[encoded data removed]",
      "text/plain": [
       "<Figure size 432x288 with 1 Axes>"
      ]
     },
     "metadata": {},
     "output_type": "display_data"
    },
    {
     "name": "stdout",
     "output_type": "stream",
     "text": [
      "i=7j=6\n",
      "File prods_op_mogreps-uk_20130401_03_00_003.nc already exists.\n",
      "File prods_op_mogreps-uk_20130401_03_01_003.nc already exists.\n",
      "File prods_op_mogreps-uk_20130401_03_02_003.nc already exists.\n",
      "File prods_op_mogreps-uk_20130401_03_03_003.nc already exists.\n",
      "File prods_op_mogreps-uk_20130401_03_04_003.nc already exists.\n",
      "File prods_op_mogreps-uk_20130401_03_05_003.nc already exists.\n",
      "File prods_op_mogreps-uk_20130401_03_06_003.nc already exists.\n",
      "File prods_op_mogreps-uk_20130401_03_07_003.nc already exists.\n",
      "File prods_op_mogreps-uk_20130401_03_08_003.nc already exists.\n",
      "File prods_op_mogreps-uk_20130401_03_09_003.nc already exists.\n",
      "File prods_op_mogreps-uk_20130401_03_10_003.nc already exists.\n",
      "File prods_op_mogreps-uk_20130401_03_11_003.nc already exists.\n",
      "Variance = 0.6149089\n"
     ]
    },
    {
     "data": {
      "image/png": "[encoded data removed]",
      "text/plain": [
       "<Figure size 432x288 with 1 Axes>"
      ]
     },
     "metadata": {},
     "output_type": "display_data"
    },
    {
     "name": "stdout",
     "output_type": "stream",
     "text": [
      "i=7j=7\n",
      "File prods_op_mogreps-uk_20130401_03_00_003.nc already exists.\n",
      "File prods_op_mogreps-uk_20130401_03_01_003.nc already exists.\n",
      "File prods_op_mogreps-uk_20130401_03_02_003.nc already exists.\n",
      "File prods_op_mogreps-uk_20130401_03_03_003.nc already exists.\n",
      "File prods_op_mogreps-uk_20130401_03_04_003.nc already exists.\n",
      "File prods_op_mogreps-uk_20130401_03_05_003.nc already exists.\n",
      "File prods_op_mogreps-uk_20130401_03_06_003.nc already exists.\n",
      "File prods_op_mogreps-uk_20130401_03_07_003.nc already exists.\n",
      "File prods_op_mogreps-uk_20130401_03_08_003.nc already exists.\n",
      "File prods_op_mogreps-uk_20130401_03_09_003.nc already exists.\n",
      "File prods_op_mogreps-uk_20130401_03_10_003.nc already exists.\n",
      "File prods_op_mogreps-uk_20130401_03_11_003.nc already exists.\n",
      "Variance = 0.6545139\n"
     ]
    },
    {
     "data": {
      "image/png": "[encoded data removed]",
      "text/plain": [
       "<Figure size 432x288 with 1 Axes>"
      ]
     },
     "metadata": {},
     "output_type": "display_data"
    },
    {
     "name": "stdout",
     "output_type": "stream",
     "text": [
      "i=7j=8\n",
      "File prods_op_mogreps-uk_20130401_03_00_003.nc already exists.\n",
      "File prods_op_mogreps-uk_20130401_03_01_003.nc already exists.\n",
      "File prods_op_mogreps-uk_20130401_03_02_003.nc already exists.\n",
      "File prods_op_mogreps-uk_20130401_03_03_003.nc already exists.\n",
      "File prods_op_mogreps-uk_20130401_03_04_003.nc already exists.\n",
      "File prods_op_mogreps-uk_20130401_03_05_003.nc already exists.\n",
      "File prods_op_mogreps-uk_20130401_03_06_003.nc already exists.\n",
      "File prods_op_mogreps-uk_20130401_03_07_003.nc already exists.\n",
      "File prods_op_mogreps-uk_20130401_03_08_003.nc already exists.\n",
      "File prods_op_mogreps-uk_20130401_03_09_003.nc already exists.\n",
      "File prods_op_mogreps-uk_20130401_03_10_003.nc already exists.\n",
      "File prods_op_mogreps-uk_20130401_03_11_003.nc already exists.\n",
      "Variance = 0.6458333\n"
     ]
    },
    {
     "data": {
      "image/png": "[encoded data removed]",
      "text/plain": [
       "<Figure size 432x288 with 1 Axes>"
      ]
     },
     "metadata": {},
     "output_type": "display_data"
    },
    {
     "name": "stdout",
     "output_type": "stream",
     "text": [
      "i=7j=9\n",
      "File prods_op_mogreps-uk_20130401_03_00_003.nc already exists.\n",
      "File prods_op_mogreps-uk_20130401_03_01_003.nc already exists.\n",
      "File prods_op_mogreps-uk_20130401_03_02_003.nc already exists.\n",
      "File prods_op_mogreps-uk_20130401_03_03_003.nc already exists.\n",
      "File prods_op_mogreps-uk_20130401_03_04_003.nc already exists.\n",
      "File prods_op_mogreps-uk_20130401_03_05_003.nc already exists.\n",
      "File prods_op_mogreps-uk_20130401_03_06_003.nc already exists.\n",
      "File prods_op_mogreps-uk_20130401_03_07_003.nc already exists.\n",
      "File prods_op_mogreps-uk_20130401_03_08_003.nc already exists.\n",
      "File prods_op_mogreps-uk_20130401_03_09_003.nc already exists.\n",
      "File prods_op_mogreps-uk_20130401_03_10_003.nc already exists.\n",
      "File prods_op_mogreps-uk_20130401_03_11_003.nc already exists.\n",
      "Variance = 0.6183811\n"
     ]
    },
    {
     "data": {
      "image/png": "[encoded data removed]",
      "text/plain": [
       "<Figure size 432x288 with 1 Axes>"
      ]
     },
     "metadata": {},
     "output_type": "display_data"
    },
    {
     "name": "stdout",
     "output_type": "stream",
     "text": [
      "i=8j=0\n",
      "File prods_op_mogreps-uk_20130401_03_00_003.nc already exists.\n",
      "File prods_op_mogreps-uk_20130401_03_01_003.nc already exists.\n",
      "File prods_op_mogreps-uk_20130401_03_02_003.nc already exists.\n",
      "File prods_op_mogreps-uk_20130401_03_03_003.nc already exists.\n",
      "File prods_op_mogreps-uk_20130401_03_04_003.nc already exists.\n",
      "File prods_op_mogreps-uk_20130401_03_05_003.nc already exists.\n",
      "File prods_op_mogreps-uk_20130401_03_06_003.nc already exists.\n",
      "File prods_op_mogreps-uk_20130401_03_07_003.nc already exists.\n",
      "File prods_op_mogreps-uk_20130401_03_08_003.nc already exists.\n",
      "File prods_op_mogreps-uk_20130401_03_09_003.nc already exists.\n",
      "File prods_op_mogreps-uk_20130401_03_10_003.nc already exists.\n",
      "File prods_op_mogreps-uk_20130401_03_11_003.nc already exists.\n",
      "Variance = 0.6418186\n"
     ]
    },
    {
     "data": {
      "image/png": "[encoded data removed]",
      "text/plain": [
       "<Figure size 432x288 with 1 Axes>"
      ]
     },
     "metadata": {},
     "output_type": "display_data"
    },
    {
     "name": "stdout",
     "output_type": "stream",
     "text": [
      "i=8j=1\n",
      "File prods_op_mogreps-uk_20130401_03_00_003.nc already exists.\n",
      "File prods_op_mogreps-uk_20130401_03_01_003.nc already exists.\n",
      "File prods_op_mogreps-uk_20130401_03_02_003.nc already exists.\n",
      "File prods_op_mogreps-uk_20130401_03_03_003.nc already exists.\n",
      "File prods_op_mogreps-uk_20130401_03_04_003.nc already exists.\n",
      "File prods_op_mogreps-uk_20130401_03_05_003.nc already exists.\n",
      "File prods_op_mogreps-uk_20130401_03_06_003.nc already exists.\n",
      "File prods_op_mogreps-uk_20130401_03_07_003.nc already exists.\n",
      "File prods_op_mogreps-uk_20130401_03_08_003.nc already exists.\n",
      "File prods_op_mogreps-uk_20130401_03_09_003.nc already exists.\n",
      "File prods_op_mogreps-uk_20130401_03_10_003.nc already exists.\n",
      "File prods_op_mogreps-uk_20130401_03_11_003.nc already exists.\n",
      "Variance = 0.64713544\n"
     ]
    },
    {
     "data": {
      "image/png": "[encoded data removed]",
      "text/plain": [
       "<Figure size 432x288 with 1 Axes>"
      ]
     },
     "metadata": {},
     "output_type": "display_data"
    },
    {
     "name": "stdout",
     "output_type": "stream",
     "text": [
      "i=8j=2\n",
      "File prods_op_mogreps-uk_20130401_03_00_003.nc already exists.\n",
      "File prods_op_mogreps-uk_20130401_03_01_003.nc already exists.\n",
      "File prods_op_mogreps-uk_20130401_03_02_003.nc already exists.\n",
      "File prods_op_mogreps-uk_20130401_03_03_003.nc already exists.\n",
      "File prods_op_mogreps-uk_20130401_03_04_003.nc already exists.\n",
      "File prods_op_mogreps-uk_20130401_03_05_003.nc already exists.\n",
      "File prods_op_mogreps-uk_20130401_03_06_003.nc already exists.\n",
      "File prods_op_mogreps-uk_20130401_03_07_003.nc already exists.\n",
      "File prods_op_mogreps-uk_20130401_03_08_003.nc already exists.\n",
      "File prods_op_mogreps-uk_20130401_03_09_003.nc already exists.\n",
      "File prods_op_mogreps-uk_20130401_03_10_003.nc already exists.\n",
      "File prods_op_mogreps-uk_20130401_03_11_003.nc already exists.\n",
      "Variance = 0.6157769\n"
     ]
    },
    {
     "data": {
      "image/png": "[encoded data removed]",
      "text/plain": [
       "<Figure size 432x288 with 1 Axes>"
      ]
     },
     "metadata": {},
     "output_type": "display_data"
    },
    {
     "name": "stdout",
     "output_type": "stream",
     "text": [
      "i=8j=3\n",
      "File prods_op_mogreps-uk_20130401_03_00_003.nc already exists.\n",
      "File prods_op_mogreps-uk_20130401_03_01_003.nc already exists.\n",
      "File prods_op_mogreps-uk_20130401_03_02_003.nc already exists.\n",
      "File prods_op_mogreps-uk_20130401_03_03_003.nc already exists.\n",
      "File prods_op_mogreps-uk_20130401_03_04_003.nc already exists.\n",
      "File prods_op_mogreps-uk_20130401_03_05_003.nc already exists.\n",
      "File prods_op_mogreps-uk_20130401_03_06_003.nc already exists.\n",
      "File prods_op_mogreps-uk_20130401_03_07_003.nc already exists.\n",
      "File prods_op_mogreps-uk_20130401_03_08_003.nc already exists.\n",
      "File prods_op_mogreps-uk_20130401_03_09_003.nc already exists.\n",
      "File prods_op_mogreps-uk_20130401_03_10_003.nc already exists.\n",
      "File prods_op_mogreps-uk_20130401_03_11_003.nc already exists.\n",
      "Variance = 0.6235894\n"
     ]
    },
    {
     "data": {
      "image/png": "[encoded data removed]",
      "text/plain": [
       "<Figure size 432x288 with 1 Axes>"
      ]
     },
     "metadata": {},
     "output_type": "display_data"
    },
    {
     "name": "stdout",
     "output_type": "stream",
     "text": [
      "i=8j=4\n",
      "File prods_op_mogreps-uk_20130401_03_00_003.nc already exists.\n",
      "File prods_op_mogreps-uk_20130401_03_01_003.nc already exists.\n",
      "File prods_op_mogreps-uk_20130401_03_02_003.nc already exists.\n",
      "File prods_op_mogreps-uk_20130401_03_03_003.nc already exists.\n",
      "File prods_op_mogreps-uk_20130401_03_04_003.nc already exists.\n",
      "File prods_op_mogreps-uk_20130401_03_05_003.nc already exists.\n",
      "File prods_op_mogreps-uk_20130401_03_06_003.nc already exists.\n",
      "File prods_op_mogreps-uk_20130401_03_07_003.nc already exists.\n",
      "File prods_op_mogreps-uk_20130401_03_08_003.nc already exists.\n",
      "File prods_op_mogreps-uk_20130401_03_09_003.nc already exists.\n",
      "File prods_op_mogreps-uk_20130401_03_10_003.nc already exists.\n",
      "File prods_op_mogreps-uk_20130401_03_11_003.nc already exists.\n",
      "Variance = 0.6366102\n"
     ]
    },
    {
     "data": {
      "image/png": "[encoded data removed]",
      "text/plain": [
       "<Figure size 432x288 with 1 Axes>"
      ]
     },
     "metadata": {},
     "output_type": "display_data"
    },
    {
     "name": "stdout",
     "output_type": "stream",
     "text": [
      "i=8j=5\n",
      "File prods_op_mogreps-uk_20130401_03_00_003.nc already exists.\n",
      "File prods_op_mogreps-uk_20130401_03_01_003.nc already exists.\n",
      "File prods_op_mogreps-uk_20130401_03_02_003.nc already exists.\n",
      "File prods_op_mogreps-uk_20130401_03_03_003.nc already exists.\n",
      "File prods_op_mogreps-uk_20130401_03_04_003.nc already exists.\n",
      "File prods_op_mogreps-uk_20130401_03_05_003.nc already exists.\n",
      "File prods_op_mogreps-uk_20130401_03_06_003.nc already exists.\n",
      "File prods_op_mogreps-uk_20130401_03_07_003.nc already exists.\n",
      "File prods_op_mogreps-uk_20130401_03_08_003.nc already exists.\n",
      "File prods_op_mogreps-uk_20130401_03_09_003.nc already exists.\n",
      "File prods_op_mogreps-uk_20130401_03_10_003.nc already exists.\n",
      "File prods_op_mogreps-uk_20130401_03_11_003.nc already exists.\n",
      "Variance = 0.6149089\n"
     ]
    },
    {
     "data": {
      "image/png": "[encoded data removed]",
      "text/plain": [
       "<Figure size 432x288 with 1 Axes>"
      ]
     },
     "metadata": {},
     "output_type": "display_data"
    },
    {
     "name": "stdout",
     "output_type": "stream",
     "text": [
      "i=8j=6\n",
      "File prods_op_mogreps-uk_20130401_03_00_003.nc already exists.\n",
      "File prods_op_mogreps-uk_20130401_03_01_003.nc already exists.\n",
      "File prods_op_mogreps-uk_20130401_03_02_003.nc already exists.\n",
      "File prods_op_mogreps-uk_20130401_03_03_003.nc already exists.\n",
      "File prods_op_mogreps-uk_20130401_03_04_003.nc already exists.\n",
      "File prods_op_mogreps-uk_20130401_03_05_003.nc already exists.\n",
      "File prods_op_mogreps-uk_20130401_03_06_003.nc already exists.\n",
      "File prods_op_mogreps-uk_20130401_03_07_003.nc already exists.\n",
      "File prods_op_mogreps-uk_20130401_03_08_003.nc already exists.\n",
      "File prods_op_mogreps-uk_20130401_03_09_003.nc already exists.\n",
      "File prods_op_mogreps-uk_20130401_03_10_003.nc already exists.\n",
      "File prods_op_mogreps-uk_20130401_03_11_003.nc already exists.\n",
      "Variance = 0.6545139\n"
     ]
    },
    {
     "data": {
      "image/png": "[encoded data removed]",
      "text/plain": [
       "<Figure size 432x288 with 1 Axes>"
      ]
     },
     "metadata": {},
     "output_type": "display_data"
    },
    {
     "name": "stdout",
     "output_type": "stream",
     "text": [
      "i=8j=7\n",
      "File prods_op_mogreps-uk_20130401_03_00_003.nc already exists.\n",
      "File prods_op_mogreps-uk_20130401_03_01_003.nc already exists.\n",
      "File prods_op_mogreps-uk_20130401_03_02_003.nc already exists.\n",
      "File prods_op_mogreps-uk_20130401_03_03_003.nc already exists.\n",
      "File prods_op_mogreps-uk_20130401_03_04_003.nc already exists.\n",
      "File prods_op_mogreps-uk_20130401_03_05_003.nc already exists.\n",
      "File prods_op_mogreps-uk_20130401_03_06_003.nc already exists.\n",
      "File prods_op_mogreps-uk_20130401_03_07_003.nc already exists.\n",
      "File prods_op_mogreps-uk_20130401_03_08_003.nc already exists.\n",
      "File prods_op_mogreps-uk_20130401_03_09_003.nc already exists.\n",
      "File prods_op_mogreps-uk_20130401_03_10_003.nc already exists.\n",
      "File prods_op_mogreps-uk_20130401_03_11_003.nc already exists.\n",
      "Variance = 0.6756727\n"
     ]
    },
    {
     "data": {
      "image/png": "[encoded data removed]",
      "text/plain": [
       "<Figure size 432x288 with 1 Axes>"
      ]
     },
     "metadata": {},
     "output_type": "display_data"
    },
    {
     "name": "stdout",
     "output_type": "stream",
     "text": [
      "i=8j=8\n",
      "File prods_op_mogreps-uk_20130401_03_00_003.nc already exists.\n",
      "File prods_op_mogreps-uk_20130401_03_01_003.nc already exists.\n",
      "File prods_op_mogreps-uk_20130401_03_02_003.nc already exists.\n",
      "File prods_op_mogreps-uk_20130401_03_03_003.nc already exists.\n",
      "File prods_op_mogreps-uk_20130401_03_04_003.nc already exists.\n",
      "File prods_op_mogreps-uk_20130401_03_05_003.nc already exists.\n",
      "File prods_op_mogreps-uk_20130401_03_06_003.nc already exists.\n",
      "File prods_op_mogreps-uk_20130401_03_07_003.nc already exists.\n",
      "File prods_op_mogreps-uk_20130401_03_08_003.nc already exists.\n",
      "File prods_op_mogreps-uk_20130401_03_09_003.nc already exists.\n",
      "File prods_op_mogreps-uk_20130401_03_10_003.nc already exists.\n",
      "File prods_op_mogreps-uk_20130401_03_11_003.nc already exists.\n",
      "Variance = 0.65060765\n"
     ]
    },
    {
     "data": {
      "image/png": "[encoded data removed]",
      "text/plain": [
       "<Figure size 432x288 with 1 Axes>"
      ]
     },
     "metadata": {},
     "output_type": "display_data"
    },
    {
     "name": "stdout",
     "output_type": "stream",
     "text": [
      "i=8j=9\n",
      "File prods_op_mogreps-uk_20130401_03_00_003.nc already exists.\n",
      "File prods_op_mogreps-uk_20130401_03_01_003.nc already exists.\n",
      "File prods_op_mogreps-uk_20130401_03_02_003.nc already exists.\n",
      "File prods_op_mogreps-uk_20130401_03_03_003.nc already exists.\n",
      "File prods_op_mogreps-uk_20130401_03_04_003.nc already exists.\n",
      "File prods_op_mogreps-uk_20130401_03_05_003.nc already exists.\n",
      "File prods_op_mogreps-uk_20130401_03_06_003.nc already exists.\n",
      "File prods_op_mogreps-uk_20130401_03_07_003.nc already exists.\n",
      "File prods_op_mogreps-uk_20130401_03_08_003.nc already exists.\n",
      "File prods_op_mogreps-uk_20130401_03_09_003.nc already exists.\n",
      "File prods_op_mogreps-uk_20130401_03_10_003.nc already exists.\n",
      "File prods_op_mogreps-uk_20130401_03_11_003.nc already exists.\n",
      "Variance = 0.6206597\n"
     ]
    },
    {
     "data": {
      "image/png": "[encoded data removed]",
      "text/plain": [
       "<Figure size 432x288 with 1 Axes>"
      ]
     },
     "metadata": {},
     "output_type": "display_data"
    },
    {
     "name": "stdout",
     "output_type": "stream",
     "text": [
      "i=9j=0\n",
      "File prods_op_mogreps-uk_20130401_03_00_003.nc already exists.\n",
      "File prods_op_mogreps-uk_20130401_03_01_003.nc already exists.\n",
      "File prods_op_mogreps-uk_20130401_03_02_003.nc already exists.\n",
      "File prods_op_mogreps-uk_20130401_03_03_003.nc already exists.\n",
      "File prods_op_mogreps-uk_20130401_03_04_003.nc already exists.\n",
      "File prods_op_mogreps-uk_20130401_03_05_003.nc already exists.\n",
      "File prods_op_mogreps-uk_20130401_03_06_003.nc already exists.\n",
      "File prods_op_mogreps-uk_20130401_03_07_003.nc already exists.\n",
      "File prods_op_mogreps-uk_20130401_03_08_003.nc already exists.\n",
      "File prods_op_mogreps-uk_20130401_03_09_003.nc already exists.\n",
      "File prods_op_mogreps-uk_20130401_03_10_003.nc already exists.\n",
      "File prods_op_mogreps-uk_20130401_03_11_003.nc already exists.\n",
      "Variance = 0.67013884\n"
     ]
    },
    {
     "data": {
      "image/png": "[encoded data removed]",
      "text/plain": [
       "<Figure size 432x288 with 1 Axes>"
      ]
     },
     "metadata": {},
     "output_type": "display_data"
    },
    {
     "name": "stdout",
     "output_type": "stream",
     "text": [
      "i=9j=1\n",
      "File prods_op_mogreps-uk_20130401_03_00_003.nc already exists.\n",
      "File prods_op_mogreps-uk_20130401_03_01_003.nc already exists.\n",
      "File prods_op_mogreps-uk_20130401_03_02_003.nc already exists.\n",
      "File prods_op_mogreps-uk_20130401_03_03_003.nc already exists.\n",
      "File prods_op_mogreps-uk_20130401_03_04_003.nc already exists.\n",
      "File prods_op_mogreps-uk_20130401_03_05_003.nc already exists.\n",
      "File prods_op_mogreps-uk_20130401_03_06_003.nc already exists.\n",
      "File prods_op_mogreps-uk_20130401_03_07_003.nc already exists.\n",
      "File prods_op_mogreps-uk_20130401_03_08_003.nc already exists.\n",
      "File prods_op_mogreps-uk_20130401_03_09_003.nc already exists.\n",
      "File prods_op_mogreps-uk_20130401_03_10_003.nc already exists.\n",
      "File prods_op_mogreps-uk_20130401_03_11_003.nc already exists.\n",
      "Variance = 0.64713544\n"
     ]
    },
    {
     "data": {
      "image/png": "[encoded data removed]",
      "text/plain": [
       "<Figure size 432x288 with 1 Axes>"
      ]
     },
     "metadata": {},
     "output_type": "display_data"
    },
    {
     "name": "stdout",
     "output_type": "stream",
     "text": [
      "i=9j=2\n",
      "File prods_op_mogreps-uk_20130401_03_00_003.nc already exists.\n",
      "File prods_op_mogreps-uk_20130401_03_01_003.nc already exists.\n",
      "File prods_op_mogreps-uk_20130401_03_02_003.nc already exists.\n",
      "File prods_op_mogreps-uk_20130401_03_03_003.nc already exists.\n",
      "File prods_op_mogreps-uk_20130401_03_04_003.nc already exists.\n",
      "File prods_op_mogreps-uk_20130401_03_05_003.nc already exists.\n",
      "File prods_op_mogreps-uk_20130401_03_06_003.nc already exists.\n",
      "File prods_op_mogreps-uk_20130401_03_07_003.nc already exists.\n",
      "File prods_op_mogreps-uk_20130401_03_08_003.nc already exists.\n",
      "File prods_op_mogreps-uk_20130401_03_09_003.nc already exists.\n",
      "File prods_op_mogreps-uk_20130401_03_10_003.nc already exists.\n",
      "File prods_op_mogreps-uk_20130401_03_11_003.nc already exists.\n",
      "Variance = 0.6227214\n"
     ]
    },
    {
     "data": {
      "image/png": "[encoded data removed]",
      "text/plain": [
       "<Figure size 432x288 with 1 Axes>"
      ]
     },
     "metadata": {},
     "output_type": "display_data"
    },
    {
     "name": "stdout",
     "output_type": "stream",
     "text": [
      "i=9j=3\n",
      "File prods_op_mogreps-uk_20130401_03_00_003.nc already exists.\n",
      "File prods_op_mogreps-uk_20130401_03_01_003.nc already exists.\n",
      "File prods_op_mogreps-uk_20130401_03_02_003.nc already exists.\n",
      "File prods_op_mogreps-uk_20130401_03_03_003.nc already exists.\n",
      "File prods_op_mogreps-uk_20130401_03_04_003.nc already exists.\n",
      "File prods_op_mogreps-uk_20130401_03_05_003.nc already exists.\n",
      "File prods_op_mogreps-uk_20130401_03_06_003.nc already exists.\n",
      "File prods_op_mogreps-uk_20130401_03_07_003.nc already exists.\n",
      "File prods_op_mogreps-uk_20130401_03_08_003.nc already exists.\n",
      "File prods_op_mogreps-uk_20130401_03_09_003.nc already exists.\n",
      "File prods_op_mogreps-uk_20130401_03_10_003.nc already exists.\n",
      "File prods_op_mogreps-uk_20130401_03_11_003.nc already exists.\n",
      "Variance = 0.6366102\n"
     ]
    },
    {
     "data": {
      "image/png": "[encoded data removed]",
      "text/plain": [
       "<Figure size 432x288 with 1 Axes>"
      ]
     },
     "metadata": {},
     "output_type": "display_data"
    },
    {
     "name": "stdout",
     "output_type": "stream",
     "text": [
      "i=9j=4\n",
      "File prods_op_mogreps-uk_20130401_03_00_003.nc already exists.\n",
      "File prods_op_mogreps-uk_20130401_03_01_003.nc already exists.\n",
      "File prods_op_mogreps-uk_20130401_03_02_003.nc already exists.\n",
      "File prods_op_mogreps-uk_20130401_03_03_003.nc already exists.\n",
      "File prods_op_mogreps-uk_20130401_03_04_003.nc already exists.\n",
      "File prods_op_mogreps-uk_20130401_03_05_003.nc already exists.\n",
      "File prods_op_mogreps-uk_20130401_03_06_003.nc already exists.\n",
      "File prods_op_mogreps-uk_20130401_03_07_003.nc already exists.\n",
      "File prods_op_mogreps-uk_20130401_03_08_003.nc already exists.\n",
      "File prods_op_mogreps-uk_20130401_03_09_003.nc already exists.\n",
      "File prods_op_mogreps-uk_20130401_03_10_003.nc already exists.\n",
      "File prods_op_mogreps-uk_20130401_03_11_003.nc already exists.\n",
      "Variance = 0.6493055\n"
     ]
    },
    {
     "data": {
      "image/png": "[encoded data removed]",
      "text/plain": [
       "<Figure size 432x288 with 1 Axes>"
      ]
     },
     "metadata": {},
     "output_type": "display_data"
    },
    {
     "name": "stdout",
     "output_type": "stream",
     "text": [
      "i=9j=5\n",
      "File prods_op_mogreps-uk_20130401_03_00_003.nc already exists.\n",
      "File prods_op_mogreps-uk_20130401_03_01_003.nc already exists.\n",
      "File prods_op_mogreps-uk_20130401_03_02_003.nc already exists.\n",
      "File prods_op_mogreps-uk_20130401_03_03_003.nc already exists.\n",
      "File prods_op_mogreps-uk_20130401_03_04_003.nc already exists.\n",
      "File prods_op_mogreps-uk_20130401_03_05_003.nc already exists.\n",
      "File prods_op_mogreps-uk_20130401_03_06_003.nc already exists.\n",
      "File prods_op_mogreps-uk_20130401_03_07_003.nc already exists.\n",
      "File prods_op_mogreps-uk_20130401_03_08_003.nc already exists.\n",
      "File prods_op_mogreps-uk_20130401_03_09_003.nc already exists.\n",
      "File prods_op_mogreps-uk_20130401_03_10_003.nc already exists.\n",
      "File prods_op_mogreps-uk_20130401_03_11_003.nc already exists.\n",
      "Variance = 0.6444227\n"
     ]
    },
    {
     "data": {
      "image/png": "[encoded data removed]",
      "text/plain": [
       "<Figure size 432x288 with 1 Axes>"
      ]
     },
     "metadata": {},
     "output_type": "display_data"
    },
    {
     "name": "stdout",
     "output_type": "stream",
     "text": [
      "i=9j=6\n",
      "File prods_op_mogreps-uk_20130401_03_00_003.nc already exists.\n",
      "File prods_op_mogreps-uk_20130401_03_01_003.nc already exists.\n",
      "File prods_op_mogreps-uk_20130401_03_02_003.nc already exists.\n",
      "File prods_op_mogreps-uk_20130401_03_03_003.nc already exists.\n",
      "File prods_op_mogreps-uk_20130401_03_04_003.nc already exists.\n",
      "File prods_op_mogreps-uk_20130401_03_05_003.nc already exists.\n",
      "File prods_op_mogreps-uk_20130401_03_06_003.nc already exists.\n",
      "File prods_op_mogreps-uk_20130401_03_07_003.nc already exists.\n",
      "File prods_op_mogreps-uk_20130401_03_08_003.nc already exists.\n",
      "File prods_op_mogreps-uk_20130401_03_09_003.nc already exists.\n",
      "File prods_op_mogreps-uk_20130401_03_10_003.nc already exists.\n",
      "File prods_op_mogreps-uk_20130401_03_11_003.nc already exists.\n",
      "Variance = 0.6756727\n"
     ]
    },
    {
     "data": {
      "image/png": "[encoded data removed]",
      "text/plain": [
       "<Figure size 432x288 with 1 Axes>"
      ]
     },
     "metadata": {},
     "output_type": "display_data"
    },
    {
     "name": "stdout",
     "output_type": "stream",
     "text": [
      "i=9j=7\n",
      "File prods_op_mogreps-uk_20130401_03_00_003.nc already exists.\n",
      "File prods_op_mogreps-uk_20130401_03_01_003.nc already exists.\n",
      "File prods_op_mogreps-uk_20130401_03_02_003.nc already exists.\n",
      "File prods_op_mogreps-uk_20130401_03_03_003.nc already exists.\n",
      "File prods_op_mogreps-uk_20130401_03_04_003.nc already exists.\n",
      "File prods_op_mogreps-uk_20130401_03_05_003.nc already exists.\n",
      "File prods_op_mogreps-uk_20130401_03_06_003.nc already exists.\n",
      "File prods_op_mogreps-uk_20130401_03_07_003.nc already exists.\n",
      "File prods_op_mogreps-uk_20130401_03_08_003.nc already exists.\n",
      "File prods_op_mogreps-uk_20130401_03_09_003.nc already exists.\n",
      "File prods_op_mogreps-uk_20130401_03_10_003.nc already exists.\n",
      "File prods_op_mogreps-uk_20130401_03_11_003.nc already exists.\n",
      "Variance = 0.6392144\n"
     ]
    },
    {
     "data": {
      "image/png": "[encoded data removed]",
      "text/plain": [
       "<Figure size 432x288 with 1 Axes>"
      ]
     },
     "metadata": {},
     "output_type": "display_data"
    },
    {
     "name": "stdout",
     "output_type": "stream",
     "text": [
      "i=9j=8\n",
      "File prods_op_mogreps-uk_20130401_03_00_003.nc already exists.\n",
      "File prods_op_mogreps-uk_20130401_03_01_003.nc already exists.\n",
      "File prods_op_mogreps-uk_20130401_03_02_003.nc already exists.\n",
      "File prods_op_mogreps-uk_20130401_03_03_003.nc already exists.\n",
      "File prods_op_mogreps-uk_20130401_03_04_003.nc already exists.\n",
      "File prods_op_mogreps-uk_20130401_03_05_003.nc already exists.\n",
      "File prods_op_mogreps-uk_20130401_03_06_003.nc already exists.\n",
      "File prods_op_mogreps-uk_20130401_03_07_003.nc already exists.\n",
      "File prods_op_mogreps-uk_20130401_03_08_003.nc already exists.\n",
      "File prods_op_mogreps-uk_20130401_03_09_003.nc already exists.\n",
      "File prods_op_mogreps-uk_20130401_03_10_003.nc already exists.\n",
      "File prods_op_mogreps-uk_20130401_03_11_003.nc already exists.\n",
      "Variance = 0.6201172\n"
     ]
    },
    {
     "data": {
      "image/png": "[encoded data removed]",
      "text/plain": [
       "<Figure size 432x288 with 1 Axes>"
      ]
     },
     "metadata": {},
     "output_type": "display_data"
    },
    {
     "name": "stdout",
     "output_type": "stream",
     "text": [
      "i=9j=9\n",
      "File prods_op_mogreps-uk_20130401_03_00_003.nc already exists.\n",
      "File prods_op_mogreps-uk_20130401_03_01_003.nc already exists.\n",
      "File prods_op_mogreps-uk_20130401_03_02_003.nc already exists.\n",
      "File prods_op_mogreps-uk_20130401_03_03_003.nc already exists.\n",
      "File prods_op_mogreps-uk_20130401_03_04_003.nc already exists.\n",
      "File prods_op_mogreps-uk_20130401_03_05_003.nc already exists.\n",
      "File prods_op_mogreps-uk_20130401_03_06_003.nc already exists.\n",
      "File prods_op_mogreps-uk_20130401_03_07_003.nc already exists.\n",
      "File prods_op_mogreps-uk_20130401_03_08_003.nc already exists.\n",
      "File prods_op_mogreps-uk_20130401_03_09_003.nc already exists.\n",
      "File prods_op_mogreps-uk_20130401_03_10_003.nc already exists.\n",
      "File prods_op_mogreps-uk_20130401_03_11_003.nc already exists.\n",
      "Variance = 0.6548394\n"
     ]
    },
    {
     "data": {
      "image/png": "[encoded data removed]",
      "text/plain": [
       "<Figure size 432x288 with 1 Axes>"
      ]
     },
     "metadata": {},
     "output_type": "display_data"
    }
   ],
   "source": [
    "import numpy as np\n",
    "Plot_Variance_in_Property('air_temperature_2',2013,\"May\",1,3,3)"
   ]
  },
  {
   "cell_type": "code",
   "execution_count": 76,
   "metadata": {},
   "outputs": [
    {
     "name": "stdout",
     "output_type": "stream",
     "text": [
      "File prods_op_mogreps-uk_20130401_03_00_003.nc already exists.\n",
      "File prods_op_mogreps-uk_20130401_03_01_003.nc already exists.\n",
      "File prods_op_mogreps-uk_20130401_03_02_003.nc already exists.\n",
      "File prods_op_mogreps-uk_20130401_03_03_003.nc already exists.\n",
      "File prods_op_mogreps-uk_20130401_03_04_003.nc already exists.\n",
      "File prods_op_mogreps-uk_20130401_03_05_003.nc already exists.\n",
      "File prods_op_mogreps-uk_20130401_03_06_003.nc already exists.\n",
      "File prods_op_mogreps-uk_20130401_03_07_003.nc already exists.\n",
      "File prods_op_mogreps-uk_20130401_03_08_003.nc already exists.\n",
      "File prods_op_mogreps-uk_20130401_03_09_003.nc already exists.\n",
      "File prods_op_mogreps-uk_20130401_03_10_003.nc already exists.\n",
      "File prods_op_mogreps-uk_20130401_03_11_003.nc already exists.\n",
      "File prods_op_mogreps-uk_20130401_03_00_003.nc already exists.\n",
      "File prods_op_mogreps-uk_20130401_03_01_003.nc already exists.\n",
      "File prods_op_mogreps-uk_20130401_03_02_003.nc already exists.\n",
      "File prods_op_mogreps-uk_20130401_03_03_003.nc already exists.\n",
      "File prods_op_mogreps-uk_20130401_03_04_003.nc already exists.\n",
      "File prods_op_mogreps-uk_20130401_03_05_003.nc already exists.\n",
      "File prods_op_mogreps-uk_20130401_03_06_003.nc already exists.\n",
      "File prods_op_mogreps-uk_20130401_03_07_003.nc already exists.\n",
      "File prods_op_mogreps-uk_20130401_03_08_003.nc already exists.\n",
      "File prods_op_mogreps-uk_20130401_03_09_003.nc already exists.\n",
      "File prods_op_mogreps-uk_20130401_03_10_003.nc already exists.\n",
      "File prods_op_mogreps-uk_20130401_03_11_003.nc already exists.\n"
     ]
    },
    {
     "data": {
      "image/png": "[encoded data removed]",
      "text/plain": [
       "<Figure size 720x720 with 1 Axes>"
      ]
     },
     "metadata": {},
     "output_type": "display_data"
    },
    {
     "name": "stdout",
     "output_type": "stream",
     "text": [
      "File prods_op_mogreps-uk_20130401_03_00_003.nc already exists.\n",
      "File prods_op_mogreps-uk_20130401_03_01_003.nc already exists.\n",
      "File prods_op_mogreps-uk_20130401_03_02_003.nc already exists.\n",
      "File prods_op_mogreps-uk_20130401_03_03_003.nc already exists.\n",
      "File prods_op_mogreps-uk_20130401_03_04_003.nc already exists.\n",
      "File prods_op_mogreps-uk_20130401_03_05_003.nc already exists.\n",
      "File prods_op_mogreps-uk_20130401_03_06_003.nc already exists.\n",
      "File prods_op_mogreps-uk_20130401_03_07_003.nc already exists.\n",
      "File prods_op_mogreps-uk_20130401_03_08_003.nc already exists.\n",
      "File prods_op_mogreps-uk_20130401_03_09_003.nc already exists.\n",
      "File prods_op_mogreps-uk_20130401_03_10_003.nc already exists.\n",
      "File prods_op_mogreps-uk_20130401_03_11_003.nc already exists.\n",
      "File prods_op_mogreps-uk_20130401_03_00_003.nc already exists.\n",
      "File prods_op_mogreps-uk_20130401_03_01_003.nc already exists.\n",
      "File prods_op_mogreps-uk_20130401_03_02_003.nc already exists.\n",
      "File prods_op_mogreps-uk_20130401_03_03_003.nc already exists.\n",
      "File prods_op_mogreps-uk_20130401_03_04_003.nc already exists.\n",
      "File prods_op_mogreps-uk_20130401_03_05_003.nc already exists.\n",
      "File prods_op_mogreps-uk_20130401_03_06_003.nc already exists.\n",
      "File prods_op_mogreps-uk_20130401_03_07_003.nc already exists.\n",
      "File prods_op_mogreps-uk_20130401_03_08_003.nc already exists.\n",
      "File prods_op_mogreps-uk_20130401_03_09_003.nc already exists.\n",
      "File prods_op_mogreps-uk_20130401_03_10_003.nc already exists.\n",
      "File prods_op_mogreps-uk_20130401_03_11_003.nc already exists.\n"
     ]
    },
    {
     "data": {
      "image/png": "[encoded data removed]",
      "text/plain": [
       "<Figure size 720x720 with 1 Axes>"
      ]
     },
     "metadata": {},
     "output_type": "display_data"
    }
   ],
   "source": [
    "Plot_Variables_Against('air_temperature_2','stratiform_rainfall_amount',547,420,2013,\"May\",1,3,3)\n",
    "Plot_Variables_Against('air_temperature_2','stratiform_rainfall_amount',1,0,2013,\"May\",1,3,3)"
   ]
  },
  {
   "cell_type": "code",
   "execution_count": 30,
   "metadata": {},
   "outputs": [
    {
     "data": {
      "image/png": "[encoded data removed]",
      "text/plain": [
       "<Figure size 432x288 with 1 Axes>"
      ]
     },
     "metadata": {},
     "output_type": "display_data"
    }
   ],
   "source": [
    "plt.scatter(air_temps,pressures)\n",
    "plt.title(\"Temp versus pressure at location (0,0)\")\n",
    "plt.xlabel(\"air_temp_2\")\n",
    "plt.ylabel(\"high_type_cloud_area_fraction\")\n",
    "plt.show()"
   ]
  },
  {
   "cell_type": "code",
   "execution_count": 7,
   "metadata": {},
   "outputs": [
    {
     "data": {
      "text/plain": [
       "(array([1., 2., 3., 0., 2., 1., 0., 0., 0., 1.]),\n",
       " array([281.375, 281.625, 281.875, 282.125, 282.375, 282.625, 282.875,\n",
       "        283.125, 283.375, 283.625, 283.875]),\n",
       " <a list of 10 Patch objects>)"
      ]
     },
     "execution_count": 7,
     "metadata": {},
     "output_type": "execute_result"
    },
    {
     "data": {
      "image/png": "[encoded data removed]",
      "text/plain": [
       "<Figure size 432x288 with 1 Axes>"
      ]
     },
     "metadata": {},
     "output_type": "display_data"
    }
   ],
   "source": [
    "plt.hist(air_temps)"
   ]
  },
  {
   "cell_type": "code",
   "execution_count": null,
   "metadata": {},
   "outputs": [],
   "source": []
  }
 ],
 "metadata": {
  "kernelspec": {
   "display_name": "Python 3",
   "language": "python",
   "name": "python3"
  },
  "language_info": {
   "codemirror_mode": {
    "name": "ipython",
    "version": 3
   },
   "file_extension": ".py",
   "mimetype": "text/x-python",
   "name": "python",
   "nbconvert_exporter": "python",
   "pygments_lexer": "ipython3",
   "version": "3.6.5"
  }
 },
 "nbformat": 4,
 "nbformat_minor": 2
}
